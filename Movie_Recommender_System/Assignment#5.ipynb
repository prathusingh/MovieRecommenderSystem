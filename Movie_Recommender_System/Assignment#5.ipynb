{
 "cells": [
  {
   "cell_type": "code",
   "execution_count": 3,
   "metadata": {
    "collapsed": false
   },
   "outputs": [],
   "source": [
    "#Array processing\n",
    "import numpy as np\n",
    "\n",
    "#Data analysis, wrangling and common exploratory operations\n",
    "import pandas as pd\n",
    "from pandas import Series, DataFrame\n",
    "from IPython.display import display\n",
    "\n",
    "#For visualization. Matplotlib for basic viz and seaborn for more stylish figures + statistical figures not in MPL.\n",
    "import matplotlib.pyplot as plt\n",
    "import seaborn as sns\n",
    "\n",
    "import scipy as sp\n",
    "#SVD for Sparse matrices\n",
    "from scipy.sparse.linalg import svds\n",
    "\n",
    "from sklearn.metrics.pairwise import euclidean_distances\n",
    "\n",
    "from collections import defaultdict, Counter\n",
    "import operator\n",
    "\n",
    "from matplotlib import rcParams\n",
    "rcParams['figure.figsize'] = (10, 6)\n",
    "\n",
    "\n"
   ]
  },
  {
   "cell_type": "code",
   "execution_count": 10,
   "metadata": {
    "collapsed": false
   },
   "outputs": [
    {
     "data": {
      "text/html": [
       "<div>\n",
       "<table border=\"1\" class=\"dataframe\">\n",
       "  <thead>\n",
       "    <tr style=\"text-align: right;\">\n",
       "      <th></th>\n",
       "      <th>MovieId</th>\n",
       "      <th>Title</th>\n",
       "      <th>UserId</th>\n",
       "      <th>Rating</th>\n",
       "      <th>Age</th>\n",
       "      <th>Gender</th>\n",
       "      <th>Occupation</th>\n",
       "      <th>ZipCode</th>\n",
       "    </tr>\n",
       "  </thead>\n",
       "  <tbody>\n",
       "    <tr>\n",
       "      <th>0</th>\n",
       "      <td>1</td>\n",
       "      <td>Toy Story (1995)</td>\n",
       "      <td>308</td>\n",
       "      <td>4</td>\n",
       "      <td>60</td>\n",
       "      <td>M</td>\n",
       "      <td>retired</td>\n",
       "      <td>95076</td>\n",
       "    </tr>\n",
       "    <tr>\n",
       "      <th>1</th>\n",
       "      <td>4</td>\n",
       "      <td>Get Shorty (1995)</td>\n",
       "      <td>308</td>\n",
       "      <td>5</td>\n",
       "      <td>60</td>\n",
       "      <td>M</td>\n",
       "      <td>retired</td>\n",
       "      <td>95076</td>\n",
       "    </tr>\n",
       "    <tr>\n",
       "      <th>2</th>\n",
       "      <td>5</td>\n",
       "      <td>Copycat (1995)</td>\n",
       "      <td>308</td>\n",
       "      <td>4</td>\n",
       "      <td>60</td>\n",
       "      <td>M</td>\n",
       "      <td>retired</td>\n",
       "      <td>95076</td>\n",
       "    </tr>\n",
       "    <tr>\n",
       "      <th>3</th>\n",
       "      <td>7</td>\n",
       "      <td>Twelve Monkeys (1995)</td>\n",
       "      <td>308</td>\n",
       "      <td>4</td>\n",
       "      <td>60</td>\n",
       "      <td>M</td>\n",
       "      <td>retired</td>\n",
       "      <td>95076</td>\n",
       "    </tr>\n",
       "    <tr>\n",
       "      <th>4</th>\n",
       "      <td>8</td>\n",
       "      <td>Babe (1995)</td>\n",
       "      <td>308</td>\n",
       "      <td>5</td>\n",
       "      <td>60</td>\n",
       "      <td>M</td>\n",
       "      <td>retired</td>\n",
       "      <td>95076</td>\n",
       "    </tr>\n",
       "  </tbody>\n",
       "</table>\n",
       "</div>"
      ],
      "text/plain": [
       "   MovieId                  Title  UserId  Rating  Age Gender Occupation  \\\n",
       "0        1       Toy Story (1995)     308       4   60      M    retired   \n",
       "1        4      Get Shorty (1995)     308       5   60      M    retired   \n",
       "2        5         Copycat (1995)     308       4   60      M    retired   \n",
       "3        7  Twelve Monkeys (1995)     308       4   60      M    retired   \n",
       "4        8            Babe (1995)     308       5   60      M    retired   \n",
       "\n",
       "  ZipCode  \n",
       "0   95076  \n",
       "1   95076  \n",
       "2   95076  \n",
       "3   95076  \n",
       "4   95076  "
      ]
     },
     "execution_count": 10,
     "metadata": {},
     "output_type": "execute_result"
    }
   ],
   "source": [
    "#Load the user data\n",
    "users_df = pd.read_csv('ml-100k/u.user', sep='|', names=['UserId', 'Age', 'Gender', 'Occupation', 'ZipCode'])\n",
    "#Load the movies data: we will only use movie id and title for this assignment\n",
    "movies_df = pd.read_csv('ml-100k/u.item', sep='|', names=['MovieId', 'Title'], usecols=range(2))\n",
    "\n",
    "#Load the ratings data: ignore the timestamps\n",
    "ratings_df = pd.read_csv('ml-100k/u.data', sep='\\t', names=['UserId', 'MovieId', 'Rating'],usecols=range(3))\n",
    "\n",
    "movie_ratings_df = pd.merge(movies_df, ratings_df)\n",
    "movielens_df = pd.merge(movie_ratings_df, users_df)\n",
    "movielens_df.head()"
   ]
  },
  {
   "cell_type": "code",
   "execution_count": 34,
   "metadata": {
    "collapsed": false
   },
   "outputs": [
    {
     "name": "stdout",
     "output_type": "stream",
     "text": [
      "Title\n",
      "Star Wars (1977)                 583\n",
      "Contact (1997)                   509\n",
      "Fargo (1996)                     508\n",
      "Return of the Jedi (1983)        507\n",
      "Liar Liar (1997)                 485\n",
      "English Patient, The (1996)      481\n",
      "Scream (1996)                    478\n",
      "Toy Story (1995)                 452\n",
      "Air Force One (1997)             431\n",
      "Independence Day (ID4) (1996)    429\n",
      "dtype: int64\n"
     ]
    }
   ],
   "source": [
    "#Exploratory Analysis\n",
    "#Task t1a: Print the NAME of the top-10 movies with most ratings\n",
    "print movielens_df.groupby('Title').size().order(ascending=False)[:10]"
   ]
  },
  {
   "cell_type": "code",
   "execution_count": 22,
   "metadata": {
    "collapsed": false
   },
   "outputs": [
    {
     "name": "stdout",
     "output_type": "stream",
     "text": [
      "UserId\n",
      "1      272\n",
      "2       62\n",
      "3       54\n",
      "4       24\n",
      "5      175\n",
      "6      211\n",
      "7      403\n",
      "8       59\n",
      "9       22\n",
      "10     184\n",
      "11     181\n",
      "12      51\n",
      "13     636\n",
      "14      98\n",
      "15     104\n",
      "16     140\n",
      "17      28\n",
      "18     277\n",
      "19      20\n",
      "20      48\n",
      "21     179\n",
      "22     128\n",
      "23     151\n",
      "24      68\n",
      "25      78\n",
      "26     107\n",
      "27      25\n",
      "28      79\n",
      "29      34\n",
      "30      43\n",
      "      ... \n",
      "914     23\n",
      "915     26\n",
      "916    317\n",
      "917     35\n",
      "918    103\n",
      "919    217\n",
      "920     26\n",
      "921    110\n",
      "922    127\n",
      "923     74\n",
      "924     82\n",
      "925     32\n",
      "926     20\n",
      "927    120\n",
      "928     32\n",
      "929     49\n",
      "930     63\n",
      "931     61\n",
      "932    241\n",
      "933    184\n",
      "934    174\n",
      "935     39\n",
      "936    142\n",
      "937     40\n",
      "938    108\n",
      "939     49\n",
      "940    107\n",
      "941     22\n",
      "942     79\n",
      "943    168\n",
      "Name: Rating, dtype: int64\n"
     ]
    },
    {
     "data": {
      "text/plain": [
       "<matplotlib.text.Text at 0x7fc55893eb90>"
      ]
     },
     "execution_count": 22,
     "metadata": {},
     "output_type": "execute_result"
    }
   ],
   "source": [
    "#Task t1b: Let us now analyze the rating behavior of the 1000 users in the dataset\n",
    "#  Create a histogram based on the number of ratings per user with 50 bins. \n",
    "# Title=\"Count of Ratings per User\", XLabel=\"Ratings per user\", YLabel=\"#Users\"\n",
    "\n",
    "#t1b_user_rating_count is a groupby object that counts the number of ratings for each user.\n",
    "t1b_user_rating_count = movielens_df.groupby('UserId')['Rating'].count()\n",
    "#print t1b_user_rating_count\n",
    "t1b_user_rating_count.hist(bins=50)\n",
    "plt.xlabel(\"Ratings per user\")\n",
    "plt.ylabel(\"#Users\")\n",
    "plt.title(\"Count of Ratings per User\")\n",
    "\n",
    "####The figure below shows that most users leave less than 25 ratings while few outliers leave a lot of ratings"
   ]
  },
  {
   "cell_type": "code",
   "execution_count": 24,
   "metadata": {
    "collapsed": false
   },
   "outputs": [
    {
     "name": "stdout",
     "output_type": "stream",
     "text": [
      "MovieId\n",
      "1       452\n",
      "2       131\n",
      "3        90\n",
      "4       209\n",
      "5        86\n",
      "6        26\n",
      "7       392\n",
      "8       219\n",
      "9       299\n",
      "10       89\n",
      "11      236\n",
      "12      267\n",
      "13      184\n",
      "14      183\n",
      "15      293\n",
      "16       39\n",
      "17       92\n",
      "18       10\n",
      "19       69\n",
      "20       72\n",
      "21       84\n",
      "22      297\n",
      "23      182\n",
      "24      174\n",
      "25      293\n",
      "26       73\n",
      "27       57\n",
      "28      276\n",
      "29      114\n",
      "30       37\n",
      "       ... \n",
      "1653      1\n",
      "1654      1\n",
      "1655      1\n",
      "1656      2\n",
      "1657      1\n",
      "1658      3\n",
      "1659      1\n",
      "1660      1\n",
      "1661      1\n",
      "1662      2\n",
      "1663      1\n",
      "1664      4\n",
      "1665      1\n",
      "1666      1\n",
      "1667      1\n",
      "1668      1\n",
      "1669      1\n",
      "1670      1\n",
      "1671      1\n",
      "1672      2\n",
      "1673      1\n",
      "1674      1\n",
      "1675      1\n",
      "1676      1\n",
      "1677      1\n",
      "1678      1\n",
      "1679      1\n",
      "1680      1\n",
      "1681      1\n",
      "1682      1\n",
      "Name: Rating, dtype: int64\n"
     ]
    },
    {
     "data": {
      "text/plain": [
       "<matplotlib.text.Text at 0x7fc55893eb90>"
      ]
     },
     "execution_count": 24,
     "metadata": {},
     "output_type": "execute_result"
    }
   ],
   "source": [
    "#Task t1c: Let us now analyze the rating behavior of the 1000 users in the dataset\n",
    "#  Create a histogram based on the number of ratings per movie with 50 bins. \n",
    "# Title=\"Count of Ratings per Movie\", XLabel=\"Ratings per Movie\", YLabel=\"#Movies\"\n",
    "\n",
    "#t1c_user_rating_count is a groupby object that counts the number of ratings for each movie.\n",
    "t1c_user_rating_count = movielens_df.groupby('MovieId')['Rating'].count()\n",
    "#print t1c_user_rating_count\n",
    "t1c_user_rating_count.hist(bins=50)\n",
    "plt.xlabel(\"Ratings per Movie\")\n",
    "plt.ylabel(\"#Movies\")\n",
    "plt.title(\"Count of Ratings per Movie\")\n",
    "\n",
    "####The figure below shows that most movies receive less than 25 ratings while few popular get a lot of ratings\n"
   ]
  },
  {
   "cell_type": "code",
   "execution_count": 26,
   "metadata": {
    "collapsed": false
   },
   "outputs": [
    {
     "name": "stdout",
     "output_type": "stream",
     "text": [
      "Average rating of ALL movies is 3.53\n"
     ]
    }
   ],
   "source": [
    "#Task t1d: Let us now analyze the rating distribution\n",
    "#  Create a histogram based on the ratings received for each movie with 5 bins. \n",
    "# Title=\"Ratings Histogram\", XLabel=\"Rating Provided\", YLabel=\"#Ratings\"\n",
    "\n",
    "movielens_df['Rating'].hist(bins=5)\n",
    "plt.xlabel(\"Rating Provided\")\n",
    "plt.ylabel(\"#Ratings\")\n",
    "plt.title(\"Ratings Histogram\")\n",
    "\n",
    "####The figure below shows that most movies at least 35K of ratings provided a score of 4 or higher.\n",
    "#The code below shows that the average rating is 3.5\n",
    "# This is problematic because each user has a different rating scale\n",
    "# For some users 1 is a bad movie while for some others 3 is bad\n",
    "# So a good model must take into the account the baseline rating behavior of users and movies\n",
    "\n",
    "print \"Average rating of ALL movies is\", round(movie_ratings_df['Rating'].mean(), 2)"
   ]
  },
  {
   "cell_type": "code",
   "execution_count": 31,
   "metadata": {
    "collapsed": false
   },
   "outputs": [
    {
     "name": "stdout",
     "output_type": "stream",
     "text": [
      "UserId\n",
      "1      3.610294\n",
      "2      3.709677\n",
      "3      2.796296\n",
      "4      4.333333\n",
      "5      2.874286\n",
      "6      3.635071\n",
      "7      3.965261\n",
      "8      3.796610\n",
      "9      4.272727\n",
      "10     4.206522\n",
      "11     3.464088\n",
      "12     4.392157\n",
      "13     3.097484\n",
      "14     4.091837\n",
      "15     2.875000\n",
      "16     4.328571\n",
      "17     3.035714\n",
      "18     3.880866\n",
      "19     3.550000\n",
      "20     3.104167\n",
      "21     2.670391\n",
      "22     3.351562\n",
      "23     3.635762\n",
      "24     4.323529\n",
      "25     4.051282\n",
      "26     2.943925\n",
      "27     3.240000\n",
      "28     3.721519\n",
      "29     3.647059\n",
      "30     3.767442\n",
      "         ...   \n",
      "914    3.086957\n",
      "915    3.115385\n",
      "916    3.365931\n",
      "917    3.542857\n",
      "918    3.349515\n",
      "919    3.470046\n",
      "920    3.230769\n",
      "921    3.272727\n",
      "922    3.370079\n",
      "923    4.148649\n",
      "924    3.756098\n",
      "925    3.125000\n",
      "926    3.300000\n",
      "927    3.691667\n",
      "928    4.687500\n",
      "929    3.693878\n",
      "930    2.968254\n",
      "931    3.721311\n",
      "932    3.966805\n",
      "933    2.646739\n",
      "934    3.701149\n",
      "935    3.923077\n",
      "936    3.746479\n",
      "937    3.375000\n",
      "938    3.268519\n",
      "939    4.265306\n",
      "940    3.457944\n",
      "941    4.045455\n",
      "942    4.265823\n",
      "943    3.410714\n",
      "Name: Rating, dtype: float64\n"
     ]
    },
    {
     "data": {
      "text/plain": [
       "<matplotlib.text.Text at 0x7fc55899ef90>"
      ]
     },
     "execution_count": 31,
     "metadata": {},
     "output_type": "execute_result"
    }
   ],
   "source": [
    "#Task t1e: Let us now study the baseline rating behavior in more detail\n",
    "# For each user compute his/her average rating\n",
    "#  Create a histogram based on the average ratings with 5 bins. \n",
    "# Title=\"Histogram of Average Ratings of Users\", XLabel=\"Average Rating\", YLabel=\"#Users\"\n",
    "\n",
    "#t1e_avg_ratings is a groupby object with average rating for each user\n",
    "t1e_avg_ratings = movielens_df.groupby('UserId')['Rating'].mean()\n",
    "print t1e_avg_ratings\n",
    "\n",
    "t1e_avg_ratings.hist(bins=5)\n",
    "plt.title(\"Histogram of Average Ratings of Users\")\n",
    "plt.xlabel(\"Average Rating\")\n",
    "plt.ylabel(\"#Users\")\n",
    "\n",
    "\n",
    "####The figure below shows that while the average rating of users vary\n",
    "# What does this imply?"
   ]
  },
  {
   "cell_type": "code",
   "execution_count": 32,
   "metadata": {
    "collapsed": false
   },
   "outputs": [
    {
     "name": "stdout",
     "output_type": "stream",
     "text": [
      "MovieId\n",
      "1       3.878319\n",
      "2       3.206107\n",
      "3       3.033333\n",
      "4       3.550239\n",
      "5       3.302326\n",
      "6       3.576923\n",
      "7       3.798469\n",
      "8       3.995434\n",
      "9       3.896321\n",
      "10      3.831461\n",
      "11      3.847458\n",
      "12      4.385768\n",
      "13      3.418478\n",
      "14      3.967213\n",
      "15      3.778157\n",
      "16      3.205128\n",
      "17      3.119565\n",
      "18      2.800000\n",
      "19      3.956522\n",
      "20      3.416667\n",
      "21      2.761905\n",
      "22      4.151515\n",
      "23      4.120879\n",
      "24      3.448276\n",
      "25      3.443686\n",
      "26      3.452055\n",
      "27      3.105263\n",
      "28      3.931159\n",
      "29      2.666667\n",
      "30      3.945946\n",
      "          ...   \n",
      "1653    5.000000\n",
      "1654    1.000000\n",
      "1655    2.000000\n",
      "1656    3.500000\n",
      "1657    3.000000\n",
      "1658    3.000000\n",
      "1659    1.000000\n",
      "1660    2.000000\n",
      "1661    1.000000\n",
      "1662    2.500000\n",
      "1663    2.000000\n",
      "1664    3.250000\n",
      "1665    2.000000\n",
      "1666    2.000000\n",
      "1667    3.000000\n",
      "1668    3.000000\n",
      "1669    2.000000\n",
      "1670    3.000000\n",
      "1671    1.000000\n",
      "1672    2.000000\n",
      "1673    3.000000\n",
      "1674    4.000000\n",
      "1675    3.000000\n",
      "1676    2.000000\n",
      "1677    3.000000\n",
      "1678    1.000000\n",
      "1679    3.000000\n",
      "1680    2.000000\n",
      "1681    3.000000\n",
      "1682    3.000000\n",
      "Name: Rating, dtype: float64\n"
     ]
    },
    {
     "data": {
      "text/plain": [
       "<matplotlib.text.Text at 0x7fc55899ef90>"
      ]
     },
     "execution_count": 32,
     "metadata": {},
     "output_type": "execute_result"
    }
   ],
   "source": [
    "#Task t1f: Let us now study the baseline rating behavior in more detail\n",
    "# For each movie compute its average rating\n",
    "#  Create a histogram based on the average ratings with 5 bins. \n",
    "# Title=\"Histogram of Average Ratings of Movies\", XLabel=\"Average Rating\", YLabel=\"#Movies\"\n",
    "\n",
    "#t1e_avg_ratings is a groupby object with average rating for each user\n",
    "t1f_avg_ratings = movielens_df.groupby('MovieId')['Rating'].mean()\n",
    "#print t1f_avg_ratings\n",
    "\n",
    "t1f_avg_ratings.hist(bins=5)\n",
    "plt.title(\"Histogram of Average Ratings of Movies\")\n",
    "plt.xlabel(\"Average Rating\")\n",
    "plt.ylabel(\"#Movies\")\n",
    "\n",
    "\n",
    "####The figure below shows that while the average rating of movies vary\n",
    "# What does this imply?"
   ]
  },
  {
   "cell_type": "code",
   "execution_count": null,
   "metadata": {
    "collapsed": true
   },
   "outputs": [],
   "source": [
    "#Task t1g: Let us now analyze the common support for movielens dataset\n",
    "# Here is the high level idea\n",
    "# We are going to create an array and populate it with the common support for all pair of movies\n",
    "# We then are going to plot a histogram and see its distribution.\n",
    "\n",
    "#This task might take quite some time - 1-2 hours for typical machines !\n",
    "\n",
    "t1g_all_movies=movies_df['MovieId'].unique()\n",
    "t1g_allpair_commonsupport=[]\n",
    "'''\n",
    "for i, movie1 in enumerate(t1g_all_movies):\n",
    "    for j,movie2 in enumerate(t1g_all_movies):\n",
    "        if(i<j):\n",
    "            userids_who_rated_movie1=movies_df(movies_df.MovieId==movie1).UserId.unique()\n",
    "            userids_who_rated_movie2=movies_df(movies_df.MovieId==movie2).UserId.unique()\n",
    "            num_common_users=len(set(user_ids_who_rated_movie1).intersection(userids_who_rated_movie2))\n",
    "            t1g_allpair_commonsupport.append(num_common_users)\n",
    "            \n",
    "print \"Average common support is \", round(np.mean(t1g_allpair_commonsupport), 2)\n",
    "plt.hist(t1g_allpair_commonsupport)\n",
    "\n",
    "'''"
   ]
  },
  {
   "cell_type": "code",
   "execution_count": null,
   "metadata": {
    "collapsed": true
   },
   "outputs": [],
   "source": [
    "#Task t1h: Let us now consider how sparse the matrix is\n",
    "t1h_sparsity = 100000./(1682*943)\n",
    "print \"Sparsity of the dataset is \", t1h_sparsity\n",
    "\n",
    "#This graph is actually less sparse than typical datasets for recommender systems\n",
    "# which often have a sparsity much lower than 1%\n",
    "# As discussed in the class, the sparsity imposes huge problem in terms of designing efficient and correct algorithms"
   ]
  },
  {
   "cell_type": "code",
   "execution_count": null,
   "metadata": {
    "collapsed": true
   },
   "outputs": [],
   "source": [
    "#Task t1i: Compute the average rating for each movie grouped by gender\n",
    "#  In other words, for each movie, compute the average rating given by men and women\n",
    "# Hint: use a pivot table\n",
    "\n",
    "t1i_movielens_mean_ratings = movielens_df.pivot_table('Rating', index ='Title', columns='Gender',aggfunc='mean')\n",
    "display(t1i_movielens_mean_ratings[:10])\n"
   ]
  },
  {
   "cell_type": "code",
   "execution_count": 36,
   "metadata": {
    "collapsed": false
   },
   "outputs": [
    {
     "name": "stdout",
     "output_type": "stream",
     "text": [
      "{'Adventures of Pinocchio, The (1996)': 1060, 'To Cross the Rubicon (1991)': 1564, 'Birdcage, The (1996)': 25, 'B. Monkey (1998)': 1679, 'Little Big League (1994)': 1032, 'Magnificent Seven, The (1954)': 510, 'Chairman of the Board (1998)': 1654, 'Mortal Kombat (1995)': 541, 'Tin Men (1987)': 712, 'Endless Summer 2, The (1994)': 1184, 'Village of the Damned (1995)': 565, 'Cat on a Hot Tin Roof (1958)': 499, 'SubUrbia (1997)': 1428, 'Air Bud (1997)': 261, 'Johnny 100 Pesos (1993)': 1365, 'Bye Bye, Love (1995)': 1446, 'Men With Guns (1997)': 1646, 'Beautiful Thing (1996)': 1137, '2 Days in the Valley (1996)': 1011, 'Jerky Boys, The (1994)': 1484, 'Close Shave, A (1995)': 408, 'Amadeus (1984)': 191, 'Critical Care (1997)': 341, 'Clockwork Orange, A (1971)': 179, 'Country Life (1994)': 1290, 'Boys in Venice (1996)': 1359, 'Wings of Courage (1995)': 1515, 'Fifth Element, The (1997)': 250, 'Heaven & Earth (1993)': 803, 'Tombstone (1993)': 470, 'Lawnmower Man 2: Beyond Cyberspace (1996)': 758, 'Howling, The (1981)': 637, 'Mouse Hunt (1997)': 539, 'Of Human Bondage (1934)': 1397, 'Queen Margot (Reine Margot, La) (1994)': 730, 'Scream of Stone (Schrei aus Stein) (1991)': 1682, 'Before the Rain (Pred dozhdot) (1994)': 1193, 'Fish Called Wanda, A (1988)': 153, 'Deep Rising (1998)': 353, 'Full Monty, The (1997)': 269, 'Ready to Wear (Pret-A-Porter) (1994)': 1230, 'Conspiracy Theory (1997)': 328, 'Man Who Knew Too Little, The (1997)': 342, 'Jefferson in Paris (1995)': 1530, \"Star Maker, The (Uomo delle stelle, L') (1995)\": 1068, 'Angel on My Shoulder (1946)': 1453, 'Thousand Acres, A (1997)': 937, 'Lion King, The (1994)': 71, 'Lotto Land (1995)': 1343, 'Saint, The (1997)': 748, 'One Fine Day (1996)': 815, 'Whole Wide World, The (1996)': 867, \"Wend Kuuni (God's Gift) (1982)\": 1572, 'Quartier Mozart (1992)': 1570, 'Truth About Cats & Dogs, The (1996)': 111, 'Fly Away Home (1996)': 500, 'Absolute Power (1997)': 291, 'Carried Away (1996)': 1085, 'Careful (1992)': 1567, 'Tie Me Up! Tie Me Down! (1990)': 1018, 'Mallrats (1995)': 721, 'Two Deaths (1995)': 1338, 'Sprung (1997)': 1513, 'Mrs. Parker and the Vicious Circle (1994)': 1113, 'Independence Day (ID4) (1996)': 121, 'Last Supper, The (1995)': 741, 'Cry, the Beloved Country (1995)': 459, '8 Seconds (1994)': 1443, 'Miracle on 34th Street (1994)': 378, 'Wild Things (1998)': 914, 'Stealing Beauty (1996)': 1009, 'Heavy (1995)': 594, 'Super Mario Bros. (1993)': 398, 'Tokyo Fist (1995)': 1613, 'Boys of St. Vincent, The (1993)': 1192, 'Mask, The (1994)': 72, 'American in Paris, An (1951)': 602, 'Catwalk (1995)': 1318, 'Innocents, The (1961)': 1125, 'No Escape (1994)': 1416, 'Eye for an Eye (1996)': 974, 'James and the Giant Peach (1996)': 473, 'Beverly Hillbillies, The (1993)': 1030, 'Alaska (1996)': 828, 'Hoodlum (1997)': 299, 'Desperado (1995)': 33, 'Alice in Wonderland (1951)': 420, 'Milk Money (1994)': 783, 'Head Above Water (1996)': 992, 'Flubber (1997)': 892, 'M. Butterfly (1993)': 1401, 'Oliver & Company (1988)': 1078, \"Preacher's Wife, The (1996)\": 934, 'Fresh (1994)': 1169, 'Friday (1995)': 1218, 'Aparajito (1956)': 1558, 'Babe (1995)': 8, 'Lady of Burlesque (1943)': 1452, 'Beverly Hills Ninja (1997)': 456, 'War Room, The (1993)': 1141, 'Kama Sutra: A Tale of Love (1996)': 532, 'Forrest Gump (1994)': 69, 'Giant (1956)': 614, 'Lawnmower Man, The (1992)': 145, 'Diabolique (1996)': 106, 'Philadelphia Story, The (1940)': 478, \"Lover's Knot (1996)\": 1351, 'Grosse Pointe Blank (1997)': 248, 'Wizard of Oz, The (1939)': 132, 'Boomerang (1992)': 765, 'Harlem (1993)': 1410, 'Legal Deceit (1997)': 1431, 'Once Upon a Time in the West (1969)': 646, 'Raw Deal (1948)': 1476, 'Touki Bouki (Journey of the Hyena) (1973)': 1571, 'Smile Like Yours, A (1997)': 938, 'Butch Cassidy and the Sundance Kid (1969)': 435, 'Harold and Maude (1971)': 428, 'Calendar Girl (1993)': 1146, 'Stripes (1981)': 1301, 'Red Firecracker, Green Firecracker (1994)': 1099, 'Apple Dumpling Gang, The (1975)': 415, 'Dave (1993)': 732, 'Before and After (1996)': 1284, \"McHale's Navy (1997)\": 687, 'They Made Me a Criminal (1939)': 1122, 'August (1996)': 1325, 'Moll Flanders (1996)': 107, 'Daylight (1996)': 827, 'Bonheur, Le (1965)': 1382, 'Eighth Day, The (1996)': 1640, 'Leave It to Beaver (1997)': 688, 'Best of the Best 3: No Turning Back (1995)': 1250, 'Glengarry Glen Ross (1992)': 160, \"White Man's Burden (1995)\": 555, 'Grease 2 (1982)': 1037, 'For Richer or Poorer (1997)': 893, 'Temptress Moon (Feng Yue) (1996)': 1652, 'Flower of My Secret, The (Flor de mi secreto, La) (1995)': 927, 'Mrs. Winterbourne (1996)': 821, 'Little Princess, A (1995)': 1063, 'Murder in the First (1995)': 939, 'Nina Takes a Lover (1994)': 1474, 'Eddie (1996)': 819, \"Stephen King's The Langoliers (1995)\": 563, 'Passion Fish (1992)': 972, 'Empire Strikes Back, The (1980)': 172, 'Ran (1985)': 647, 'Devil in a Blue Dress (1995)': 770, 'Four Days in September (1997)': 1062, 'Bio-Dome (1996)': 368, 'Assassins (1995)': 1217, 'Relic, The (1997)': 1157, 'Coldblooded (1995)': 1414, 'Bronx Tale, A (1993)': 467, 'Shadowlands (1993)': 736, 'Rough Magic (1995)': 1662, 'Blown Away (1994)': 572, 'Doors, The (1991)': 1135, 'Audrey Rose (1977)': 667, 'Scout, The (1994)': 1224, 'Gandhi (1982)': 527, 'Rebecca (1940)': 607, 'Jean de Florette (1986)': 165, 'Hana-bi (1997)': 1647, 'Trainspotting (1996)': 475, 'Gattaca (1997)': 270, 'Batman Forever (1995)': 29, \"Miller's Crossing (1990)\": 518, 'Professional, The (1994)': 55, 'Local Hero (1983)': 516, 'Fluke (1995)': 726, 'Kundun (1997)': 900, 'My Crazy Life (Mi vida loca) (1993)': 1421, 'City of Angels (1998)': 918, 'Paradise Road (1997)': 935, \"Marvin's Room (1996)\": 287, 'Cutthroat Island (1995)': 1239, 'Sleepers (1996)': 628, 'Air Force One (1997)': 300, \"Pharaoh's Army (1995)\": 1574, 'Everyone Says I Love You (1996)': 319, 'Gate of Heavenly Peace, The (1995)': 1482, 'Vertigo (1958)': 479, 'Somewhere in Time (1980)': 662, 'Poetic Justice (1993)': 807, 'Glimmer Man, The (1996)': 841, 'Hoop Dreams (1994)': 48, 'Boys on the Side (1995)': 723, 'Thinner (1996)': 406, 'Something to Talk About (1995)': 775, 'Long Kiss Goodnight, The (1996)': 147, 'L.A. Confidential (1997)': 302, 'Silence of the Lambs, The (1991)': 98, 'Hush (1998)': 1624, 'Chasing Amy (1997)': 268, 'Oscar & Lucinda (1997)': 906, 'Angus (1995)': 1225, 'Tango Lesson, The (1997)': 889, 'Century (1993)': 1447, 'Chinatown (1974)': 654, 'Back to the Future (1985)': 204, 'Nothing Personal (1995)': 1663, 'Enchanted April (1991)': 707, 'Swan Princess, The (1994)': 1409, 'Woman in Question, The (1950)': 1581, 'Nightwatch (1997)': 1625, \"One Flew Over the Cuckoo's Nest (1975)\": 357, 'Top Hat (1935)': 1203, \"City Slickers II: The Legend of Curly's Gold (1994)\": 575, 'Phenomenon (1996)': 125, 'My Favorite Year (1982)': 414, 'Secret Garden, The (1993)': 584, 'Goofy Movie, A (1995)': 1219, 'S.F.W. (1994)': 1481, 'Sting, The (1973)': 194, 'Rumble in the Bronx (1995)': 24, 'Burnt By the Sun (1994)': 753, 'Blue in the Face (1995)': 952, 'Crying Game, The (1992)': 631, 'Leaving Las Vegas (1995)': 276, 'Mad Love (1995)': 36, 'Relative Fear (1994)': 788, \"Blood For Dracula (Andy Warhol's Dracula) (1974)\": 666, 'Emma (1996)': 283, 'G.I. Jane (1997)': 326, 'Man of the Year (1995)': 766, 'Lord of Illusions (1995)': 551, 'Star Trek: Generations (1994)': 380, 'Anaconda (1997)': 1013, 'Johns (1996)': 1543, 'Feast of July (1995)': 1108, 'Silence of the Palace, The (Saimt el Qusur) (1994)': 1630, 'Pest, The (1997)': 1002, 'Quick and the Dead, The (1995)': 562, 'Kiss of Death (1995)': 1208, 'Sense and Sensibility (1995)': 275, 'Young Frankenstein (1974)': 208, 'All Over Me (1997)': 1538, 'Arsenic and Old Lace (1944)': 659, 'Dangerous Beauty (1998)': 909, 'Hunted, The (1995)': 1552, 'Murder, My Sweet (1944)': 848, 'Die Hard 2 (1990)': 226, 'Night on Earth (1991)': 856, 'Mad City (1997)': 339, 'Total Eclipse (1995)': 1260, 'Alien 3 (1992)': 665, 'Aladdin (1992)': 95, 'Wonderland (1997)': 360, 'Citizen Kane (1941)': 134, 'Marked for Death (1990)': 1231, 'Kissed (1996)': 1216, 'English Patient, The (1996)': 286, 'Bad Boys (1995)': 27, 'Jaws 2 (1978)': 452, 'Portrait of a Lady, The (1996)': 1163, 'Patton (1970)': 205, 'Celtic Pride (1996)': 1291, 'One Night Stand (1997)': 888, 'Family Thing, A (1996)': 1197, 'Aristocats, The (1970)': 102, 'Pushing Hands (1992)': 957, 'Lay of the Land, The (1997)': 1026, 'Two or Three Things I Know About Her (1966)': 851, 'In & Out (1997)': 301, 'Body Snatcher, The (1945)': 445, 'Supercop (1992)': 128, 'Stand by Me (1986)': 655, 'Little Odessa (1994)': 782, 'Heavy Metal (1981)': 101, 'Cop Land (1997)': 327, 'Bushwhacked (1995)': 1246, 'Homeward Bound: The Incredible Journey (1993)': 140, 'Bob Roberts (1992)': 425, 'Othello (1995)': 713, 'Simple Twist of Fate, A (1994)': 1055, 'Unbearable Lightness of Being, The (1988)': 212, 'Four Rooms (1995)': 3, 'Pallbearer, The (1996)': 1057, 'Faithful (1996)': 1114, 'Shawshank Redemption, The (1994)': 64, 'Junior (1994)': 728, '12 Angry Men (1957)': 178, 'Little Lord Fauntleroy (1936)': 967, \"Mat' i syn (1997)\": 1678, \"Ulee's Gold (1997)\": 303, 'Mostro, Il (1994)': 1494, 'Cemetery Man (Dellamorte Dellamore) (1994)': 1199, 'Mr. Wrong (1996)': 1054, 'Cool Runnings (1993)': 1035, 'Jeffrey (1995)': 372, 'Three Colors: Red (1994)': 59, 'Timecop (1994)': 797, 'Rob Roy (1995)': 549, 'Next Karate Kid, The (1994)': 1415, 'Blink (1994)': 1248, 'Farewell My Concubine (1993)': 921, 'Fools Rush In (1997)': 869, 'Bliss (1997)': 1173, 'My Man Godfrey (1936)': 613, 'Unforgiven (1992)': 203, 'Ace Ventura: When Nature Calls (1995)': 364, 'Fantasia (1940)': 432, 'Sixth Man, The (1997)': 1620, 'Condition Red (1995)': 1556, 'Seventh Seal, The (Sjunde inseglet, Det) (1957)': 650, \"Weekend at Bernie's (1989)\": 158, 'Love Is All There Is (1996)': 1457, 'Wonderful, Horrible Life of Leni Riefenstahl, The (1993)': 701, 'Dracula: Dead and Loving It (1995)': 1052, 'Wings of Desire (1987)': 512, 'How to Make an American Quilt (1995)': 949, 'Candyman (1992)': 672, 'Bad Company (1995)': 798, 'Speechless (1994)': 796, 'Courage Under Fire (1996)': 471, 'Twelfth Night (1996)': 1115, 'Heat (1995)': 273, 'Terminator 2: Judgment Day (1991)': 96, \"What's Eating Gilbert Grape (1993)\": 65, 'Go Fish (1994)': 733, 'Mighty, The (1998)': 1432, 'Buddy (1997)': 1608, \"'Til There Was You (1997)\": 1300, 'Stag (1997)': 1393, 'Paris, Texas (1984)': 664, 'Hurricane Streets (1998)': 1607, 'Diva (1981)': 855, 'Sweet Hereafter, The (1997)': 896, 'Search for One-eye Jimmy, The (1996)': 1361, 'Starship Troopers (1997)': 271, 'Trial by Jury (1994)': 1522, 'Meet Wally Sparks (1997)': 1376, 'Tin Cup (1996)': 284, 'Cat People (1982)': 674, 'Boys (1996)': 1326, 'Pie in the Sky (1995)': 1259, 'Drop Zone (1994)': 779, 'Bottle Rocket (1996)': 1067, 'I, Worst of All (Yo, la peor de todas) (1990)': 1575, 'Afterglow (1997)': 903, 'Crooklyn (1994)': 793, 'Big Bang Theory, The (1994)': 1235, 'Foreign Student (1994)': 1532, 'Rock, The (1996)': 117, 'Inventing the Abbotts (1997)': 1315, 'Forbidden Planet (1956)': 434, 'High Noon (1952)': 661, 'Affair to Remember, An (1957)': 966, 'So I Married an Axe Murderer (1993)': 90, 'Suture (1993)': 1422, 'In the Bleak Midwinter (1995)': 718, 'Natural Born Killers (1994)': 53, 'Other Voices, Other Rooms (1997)': 1236, 'Pollyanna (1960)': 842, 'When We Were Kings (1996)': 1142, 'Herbie Rides Again (1974)': 1480, 'Crow, The (1994)': 68, 'Women, The (1939)': 1172, 'Brazil (1985)': 175, 'Program, The (1993)': 808, \"Monty Python's Life of Brian (1979)\": 154, 'Anna (1996)': 1398, 'Hear My Song (1991)': 970, 'Cement Garden, The (1993)': 1375, 'MURDER and murder (1996)': 1669, 'Underneath, The (1995)': 1553, \"Gridlock'd (1997)\": 1245, 'Two Much (1996)': 1102, 'Washington Square (1997)': 882, 'Babyfever (1994)': 1308, 'Walkabout (1971)': 1149, \"What's Love Got to Do with It (1993)\": 942, 'Second Jungle Book: Mowgli & Baloo, The (1997)': 1383, 'Strawberry and Chocolate (Fresa y chocolate) (1993)': 1195, 'Virtuosity (1995)': 1210, 'Schizopolis (1996)': 1589, 'Day the Sun Turned Cold, The (Tianguo niezi) (1994)': 1345, 'Trial and Error (1997)': 1258, 'Manon of the Spring (Manon des sources) (1986)': 166, 'Horse Whisperer, The (1998)': 1316, 'Bent (1997)': 891, 'Barbarella (1968)': 1411, 'Big Night (1996)': 137, 'Trees Lounge (1996)': 1017, 'Nutty Professor, The (1996)': 411, 'Associate, The (1996)': 1051, 'Malice (1993)': 1046, 'Naked (1993)': 960, 'Glory (1989)': 651, 'Pretty Woman (1990)': 739, 'Wag the Dog (1997)': 347, \"Sophie's Choice (1982)\": 632, 'Paris, France (1993)': 1622, 'Unzipped (1995)': 954, 'On Golden Pond (1981)': 162, 'Hellraiser: Bloodline (1996)': 590, 'Around the World in 80 Days (1956)': 495, 'Amityville: Dollhouse (1996)': 858, 'Metro (1997)': 1244, 'Female Perversions (1996)': 1082, 'Jade (1995)': 1207, 'Rocket Man (1997)': 683, 'Shadow, The (1994)': 810, 'Congo (1995)': 769, 'Blood & Wine (1997)': 985, 'Cowboy Way, The (1994)': 1183, 'Reservoir Dogs (1992)': 156, 'Manny & Lo (1996)': 1281, '8 Heads in a Duffel Bag (1997)': 1664, 'Cabin Boy (1994)': 998, 'Farewell to Arms, A (1932)': 1124, \"Don't Be a Menace to South Central While Drinking Your Juice in the Hood (1996)\": 1059, 'I.Q. (1994)': 49, \"Ed's Next Move (1996)\": 1356, 'Collectionneuse, La (1967)': 1578, 'Awfully Big Adventure, An (1995)': 1227, 'Tomorrow Never Dies (1997)': 751, 'I Know What You Did Last Summer (1997)': 682, 'Switchback (1997)': 1038, 'Down Periscope (1996)': 926, 'Fear (1996)': 975, 'Amityville Horror, The (1979)': 441, 'Keys to Tulsa (1997)': 991, 'Grand Day Out, A (1992)': 189, 'Night Flier (1997)': 1243, 'Bean (1997)': 338, 'Fair Game (1995)': 759, 'Showgirls (1995)': 375, 'Truman Show, The (1998)': 1127, \"Someone Else's America (1995)\": 1599, 'Nadja (1994)': 37, 'Star Wars (1977)': 50, 'Apostle, The (1997)': 344, 'Higher Learning (1995)': 1220, 'Turbulence (1997)': 986, 'If Lucy Fell (1996)': 764, 'Trigger Effect, The (1996)': 979, 'Jude (1996)': 149, 'Old Man and the Sea, The (1958)': 1126, \"Schindler's List (1993)\": 318, 'Flirt (1995)': 1495, 'Great Race, The (1965)': 630, 'Multiplicity (1996)': 1047, 'U.S. Marshalls (1998)': 912, 'Open Season (1996)': 1321, 'Donnie Brasco (1997)': 293, 'Lost World: Jurassic Park, The (1997)': 252, 'North (1994)': 1271, 'Mrs. Brown (Her Majesty, Mrs. Brown) (1997)': 306, 'Albino Alligator (1996)': 1083, 'My Family (1995)': 1147, 'Fan, The (1996)': 595, 'Wife, The (1995)': 1627, 'Evita (1996)': 289, 'Beautician and the Beast, The (1997)': 988, 'So Dear to My Heart (1949)': 626, \"Gilligan's Island: The Movie (1998)\": 1420, 'Indian Summer (1996)': 1296, 'Wild Reeds (1994)': 1171, 'Losing Chase (1996)': 1381, 'Man of No Importance, A (1994)': 1075, 'Sword in the Stone, The (1963)': 625, 'Tales from the Hood (1995)': 564, 'Star Trek: The Motion Picture (1979)': 449, 'Children of the Corn: The Gathering (1996)': 424, 'Braindead (1992)': 853, 'Breakdown (1997)': 295, 'Grateful Dead (1995)': 973, 'Destiny Turns on the Radio (1995)': 1550, 'Sneakers (1992)': 239, 'Willy Wonka and the Chocolate Factory (1971)': 151, \"Mary Shelley's Frankenstein (1994)\": 561, 'Switchblade Sisters (1975)': 1187, 'Powder (1995)': 365, 'Lightning Jack (1994)': 1000, 'Mad Dog Time (1996)': 1510, 'Species (1995)': 552, 'Die Hard (1988)': 144, 'Now and Then (1995)': 1053, 'Ruby in Paradise (1993)': 962, 'Little Buddha (1993)': 1168, 'Chungking Express (1994)': 1129, 'Raising Arizona (1987)': 238, 'Three Lives and Only One Death (1996)': 1507, 'Deer Hunter, The (1978)': 521, 'Two if by Sea (1996)': 1040, 'Mediterraneo (1991)': 971, 'Very Brady Sequel, A (1996)': 412, 'Letter From Death Row, A (1998)': 1191, 'Jungle2Jungle (1997)': 243, 'Band Wagon, The (1953)': 1298, 'Beauty and the Beast (1991)': 588, 'Father of the Bride Part II (1995)': 756, '2001: A Space Odyssey (1968)': 135, 'Return of the Jedi (1983)': 181, \"Some Mother's Son (1996)\": 1642, 'Grace of My Heart (1996)': 1426, 'Boxing Helena (1993)': 574, 'Last Time I Committed Suicide, The (1997)': 994, 'When Harry Met Sally... (1989)': 216, 'Chamber, The (1996)': 620, 'Perfect Candidate, A (1996)': 850, 'Gigi (1958)': 610, 'Cliffhanger (1993)': 576, 'Intimate Relations (1996)': 1611, 'Conan the Barbarian (1981)': 679, 'Raise the Red Lantern (1991)': 923, \"Nobody's Fool (1994)\": 956, 'Niagara, Niagara (1997)': 1648, 'Carmen Miranda: Bananas Is My Business (1994)': 1307, 'Hot Shots! Part Deux (1993)': 80, 'Muppet Treasure Island (1996)': 21, 'Party Girl (1995)': 1071, 'Grifters, The (1990)': 642, 'Scarlet Letter, The (1926)': 1542, 'FairyTale: A True Story (1997)': 308, 'Amos & Andrew (1993)': 1206, 'Dazed and Confused (1993)': 959, 'Bogus (1996)': 832, 'Babysitter, The (1995)': 1508, 'Pink Floyd - The Wall (1982)': 214, 'Striptease (1996)': 120, 'Stalingrad (1993)': 593, 'Shopping (1994)': 1595, 'Infinity (1996)': 1355, 'Etz Hadomim Tafus (Under the Domin Tree) (1994)': 1634, 'To Be or Not to Be (1942)': 1204, 'Horseman on the Roof, The (Hussard sur le toit, Le) (1995)': 113, 'Swiss Family Robinson (1960)': 622, \"Widows' Peak (1994)\": 703, 'Booty Call (1997)': 948, 'Fausto (1993)': 1490, 'Candyman: Farewell to the Flesh (1995)': 816, 'Trust (1990)': 1103, 'Only You (1994)': 785, 'Last Klezmer: Leopold Kozlowski, His Life and Music, The (1995)': 1331, 'Disclosure (1994)': 43, 'Under Siege 2: Dark Territory (1995)': 1228, 'Firm, The (1993)': 77, 'Ciao, Professore! (1993)': 1402, 'Batman & Robin (1997)': 254, 'Butcher Boy, The (1998)': 1650, 'Beat the Devil (1954)': 1456, 'House of the Spirits, The (1993)': 704, 'Old Lady Who Walked in the Sea, The (Vieille qui marchait dans la mer, La) (1991)': 1242, 'Escape from New York (1981)': 636, \"Cats Don't Dance (1997)\": 989, 'Geronimo: An American Legend (1993)': 1004, 'Mimic (1997)': 264, 'Vegas Vacation (1997)': 871, 'Romeo Is Bleeding (1993)': 583, 'Tom & Viv (1994)': 1148, 'Prophecy, The (1995)': 774, 'Clueless (1995)': 367, 'JLG/JLG - autoportrait de d\\xe9cembre (1994)': 1366, 'Night of the Living Dead (1968)': 616, 'Damsel in Distress, A (1937)': 1458, 'Big Squeeze, The (1996)': 598, \"Devil's Own, The (1997)\": 245, 'Secret Adventures of Tom Thumb, The (1993)': 1555, 'Vanya on 42nd Street (1994)': 464, 'Cops and Robbersons (1994)': 1182, 'Gordy (1995)': 1408, 'Transformers: The Movie, The (1986)': 426, 'Mondo (1996)': 1389, 'Eat Drink Man Woman (1994)': 45, 'Cobb (1994)': 1112, '20,000 Leagues Under the Sea (1954)': 141, 'Young Guns (1988)': 232, 'Shadows (Cienie) (1988)': 1546, 'Postman, The (1997)': 898, 'Edge, The (1997)': 331, 'Three Caballeros, The (1945)': 624, 'Romper Stomper (1992)': 1597, 'Dangerous Ground (1997)': 981, 'Jackal, The (1997)': 689, 'Naked in New York (1994)': 1502, 'Renaissance Man (1994)': 944, 'Ninotchka (1939)': 836, 'Touch of Evil (1958)': 653, 'Madame Butterfly (1995)': 1459, \"Smilla's Sense of Snow (1997)\": 244, 'Bewegte Mann, Der (1994)': 1504, 'Hackers (1995)': 1139, 'Quest, The (1996)': 1034, 'Larger Than Life (1996)': 1337, 'French Twist (Gazon maudit) (1995)': 16, 'Casablanca (1942)': 483, 'Sweet Nothing (1995)': 1677, 'Run of the Country, The (1995)': 1261, 'Savage Nights (Nuits fauves, Les) (1992)': 1196, 'Time Tracers (1995)': 897, 'Hudsucker Proxy, The (1994)': 81, 'Low Down Dirty Shame, A (1994)': 1181, 'Amistad (1997)': 750, 'Event Horizon (1997)': 260, 'Month by the Lake, A (1995)': 964, 'Carrington (1995)': 714, 'Nixon (1995)': 458, 'Coneheads (1993)': 577, 'Road to Wellville, The (1994)': 1140, 'Fargo (1996)': 100, 'Mr. Magoo (1997)': 901, 'In the Company of Men (1997)': 262, 'Far From Home: The Adventures of Yellow Dog (1995)': 1531, 'Line King: Al Hirschfeld, The (1996)': 1497, 'My Left Foot (1989)': 509, 'Henry V (1989)': 190, \"Devil's Advocate, The (1997)\": 307, 'Yankee Zulu (1994)': 1557, 'Firestorm (1998)': 1105, 'Gang Related (1997)': 1280, 'Kids in the Hall: Brain Candy (1996)': 108, 'Ballad of Narayama, The (Narayama Bushiko) (1958)': 1347, 'American President, The (1995)': 692, 'Peacemaker, The (1997)': 879, 'Deceiver (1997)': 1606, 'Ruling Class, The (1972)': 745, 'Faster Pussycat! Kill! Kill! (1965)': 74, \"Breakfast at Tiffany's (1961)\": 131, 'Bloody Child, The (1996)': 852, 'Funny Face (1957)': 965, 'Kansas City (1996)': 130, 'Black Sheep (1996)': 369, 'The Innocent (1994)': 643, 'Spice World (1997)': 352, 'Star Trek III: The Search for Spock (1984)': 229, 'Desert Winds (1995)': 1616, 'Three Wishes (1995)': 776, 'Great Expectations (1998)': 905, 'Philadelphia (1993)': 735, 'Spanish Prisoner, The (1997)': 1651, 'Good, The Bad and The Ugly, The (1966)': 177, 'Ghosts of Mississippi (1996)': 1136, 'Farmer & Chase (1995)': 1498, 'Bread and Chocolate (Pane e cioccolata) (1973)': 1266, 'Sunset Park (1996)': 1276, 'Haunted World of Edward D. Wood Jr., The (1995)': 115, 'Very Natural Thing, A (1974)': 1309, 'Fugitive, The (1993)': 79, 'Vermin (1998)': 907, 'Breaking the Waves (1996)': 221, 'Paris Is Burning (1990)': 645, 'Specialist, The (1994)': 1407, 'Last Man Standing (1996)': 840, 'Day the Earth Stood Still, The (1951)': 429, 'Underground (1995)': 1529, 'Heidi Fleiss: Hollywood Madam (1995) ': 1128, 'Double Happiness (1994)': 1111, 'Steel (1997)': 263, 'City of Industry (1997)': 1598, 'Dances with Wolves (1990)': 97, 'Cold Comfort Farm (1995)': 116, 'Once Upon a Time... When We Were Colored (1995)': 279, 'Daytrippers, The (1996)': 533, 'Big Sleep, The (1946)': 525, 'Hunchback of Notre Dame, The (1996)': 596, 'Vie est belle, La (Life is Rosey) (1987)': 1569, 'The Deadly Cure (1996)': 1358, 'Poison Ivy II (1995)': 1229, 'Tales from the Crypt Presents: Bordello of Blood (1996)': 413, 'Ace Ventura: Pet Detective (1994)': 67, 'Winter Guest, The (1997)': 899, 'Richie Rich (1994)': 795, 'Outlaw, The (1943)': 1455, 'Annie Hall (1977)': 514, '39 Steps, The (1935)': 615, 'Aliens (1986)': 176, 'Quiet Man, The (1952)': 648, 'Waiting for Guffman (1996)': 1007, 'Hostile Intentions (1994)': 1559, 'Saint of Fort Washington, The (1993)': 1467, 'Believers, The (1987)': 860, \"Brother's Kiss, A (1997)\": 1665, 'Dear God (1996)': 1092, 'Cape Fear (1991)': 218, 'NeverEnding Story III, The (1994)': 548, 'Don Juan DeMarco (1995)': 778, 'Nemesis 2: Nebula (1995)': 1596, 'Blue Sky (1994)': 1211, 'Nowhere (1997)': 1528, 'Commandments (1997)': 1096, 'Dadetown (1995)': 1641, 'Designated Mourner, The (1997)': 1257, 'Michael Collins (1996)': 744, 'Hotel de Love (1996)': 1377, 'Quiet Room, The (1996)': 1144, 'Indian in the Cupboard, The (1995)': 951, 'Father of the Bride (1950)': 609, 'Faust (1994)': 1367, 'Wedding Gift, The (1994)': 1516, \"Heaven's Prisoners (1996)\": 978, 'Boys Life (1995)': 799, 'Guilty as Sin (1993)': 1213, 'Baby-Sitters Club, The (1995)': 791, 'Clean Slate (Coup de Torchon) (1981)': 1560, 'Nine Months (1995)': 722, 'Andre (1994)': 812, 'Everest (1998)': 1594, 'Boogie Nights (1997)': 340, 'What Happened Was... (1994)': 1100, 'Magic Hour, The (1998)': 1592, 'Men in Black (1997)': 257, \"I'll Do Anything (1994)\": 1425, 'Further Gesture, A (1996)': 1671, 'Pillow Book, The (1995)': 253, 'Fierce Creatures (1997)': 290, 'Ma vie en rose (My Life in Pink) (1997)': 904, 'Night Falls on Manhattan (1997)': 1226, \"Eye of Vichy, The (Oeil de Vichy, L') (1993)\": 1562, 'Burnt Offerings (1976)': 446, 'Walk in the Clouds, A (1995)': 553, 'Umbrellas of Cherbourg, The (Parapluies de Cherbourg, Les) (1964)': 1121, 'Addicted to Love (1997)': 535, 'Dead Presidents (1995)': 1478, 'Dark City (1998)': 691, 'Shiloh (1997)': 1015, 'Incognito (1997)': 361, 'To Kill a Mockingbird (1962)': 427, 'Apartment, The (1960)': 481, 'Striking Distance (1993)': 397, 'Time to Kill, A (1996)': 282, 'Circle of Friends (1995)': 724, 'My Fellow Americans (1996)': 864, 'Return of Martin Guerre, The (Retour de Martin Guerre, Le) (1982)': 638, 'Under Siege (1992)': 233, \"She's So Lovely (1997)\": 875, 'Loch Ness (1995)': 839, 'GoldenEye (1995)': 2, 'Anastasia (1997)': 538, 'Private Benjamin (1980)': 167, 'Alphaville (1965)': 1154, 'Dream With the Fishes (1997)': 1514, 'Freeway (1996)': 844, 'Fille seule, La (A Single Girl) (1995)': 1158, '3 Ninjas: High Noon At Mega Mountain (1998)': 314, 'Fallen (1998)': 350, 'Daens (1992)': 1565, 'Grease (1978)': 451, 'Titanic (1997)': 313, 'Mary Reilly (1996)': 370, 'Victor/Victoria (1982)': 629, 'Ice Storm, The (1997)': 865, 'Nico Icon (1995)': 1629, 'Bridge on the River Kwai, The (1957)': 199, 'Slingshot, The (1993)': 1631, 'Liar Liar (1997)': 294, 'Dr. Strangelove or: How I Learned to Stop Worrying and Love the Bomb (1963)': 474, 'Pulp Fiction (1994)': 56, 'Farinelli: il castrato (1994)': 557, 'Entertaining Angels: The Dorothy Day Story (1996)': 1653, 'Love and a .45 (1994)': 1077, 'All Things Fair (1996)': 1619, 'Foxfire (1996)': 1263, 'Jack (1996)': 409, 'It Takes Two (1995)': 1544, 'World of Apu, The (Apur Sansar) (1959)': 1512, 'To Live (Huozhe) (1994)': 958, 'Ghost and the Darkness, The (1996)': 148, 'Koyaanisqatsi (1983)': 1065, 'Robin Hood: Men in Tights (1993)': 395, 'Ben-Hur (1959)': 526, 'Rhyme & Reason (1997)': 1378, 'Last Dance (1996)': 1150, 'Walking Dead, The (1995)': 1423, 'Thin Line Between Love and Hate, A (1996)': 1094, 'Maya Lin: A Strong Clear Vision (1994)': 119, 'Beans of Egypt, Maine, The (1994)': 1541, 'Shall We Dance? (1937)': 1286, 'Sgt. Bilko (1996)': 105, 'Shaggy Dog, The (1959)': 843, \"Jupiter's Wife (1994)\": 1130, 'Corrina, Corrina (1994)': 731, 'Godfather, The (1972)': 127, 'Threesome (1994)': 738, 'Tank Girl (1995)': 1110, 'Tainted (1998)': 1670, 'Free Willy 3: The Rescue (1997)': 457, 'Blob, The (1958)': 444, 'Prophecy II, The (1998)': 351, 'High School High (1996)': 1095, 'Cook the Thief His Wife & Her Lover, The (1989)': 640, 'Picnic (1955)': 618, 'Big One, The (1997)': 1649, 'Princess Bride, The (1987)': 173, 'Dial M for Murder (1954)': 505, 'Wallace & Gromit: The Best of Aardman Animation (1996)': 114, 'Underworld (1997)': 987, 'Venice/Venice (1992)': 1354, 'Three Musketeers, The (1993)': 399, 'Major Payne (1994)': 1178, 'Joy Luck Club, The (1993)': 1418, 'Love Bug, The (1969)': 139, 'Sunchaser, The (1996)': 1675, 'Marlene Dietrich: Shadow and Light (1996) ': 1201, 'Another Stakeout (1993)': 571, 'Star Trek V: The Final Frontier (1989)': 450, 'Gabbeh (1996)': 1388, 'Scream (1996)': 288, 'Secret of Roan Inish, The (1994)': 463, \"Boy's Life 2 (1997)\": 1405, 'Big Bully (1996)': 1165, 'Nikita (La Femme Nikita) (1990)': 198, 'Bloodsport 2 (1995)': 1087, 'Innocent Sleep, The (1995)': 1390, 'Manchurian Candidate, The (1962)': 657, 'N\\xe9nette et Boni (1996)': 1233, 'Primary Colors (1998)': 915, 'Crossing Guard, The (1995)': 460, 'Bad Girls (1994)': 1247, \"Wooden Man's Bride, The (Wu Kui) (1994)\": 1323, 'Race the Sun (1996)': 1517, 'Stonewall (1995)': 1396, 'Bridges of Madison County, The (1995)': 371, 'Midnight Dancers (Sibak) (1994)': 1333, 'Exotica (1994)': 46, 'Johnny Mnemonic (1995)': 771, 'In the Line of Fire (1993)': 684, \"Muriel's Wedding (1994)\": 381, 'Basic Instinct (1992)': 159, 'Paths of Glory (1957)': 641, 'Nil By Mouth (1997)': 910, 'Truth or Consequences, N.M. (1997)': 1610, \"Margaret's Museum (1995)\": 1466, 'Two Bits (1995)': 920, 'Big Blue, The (Grand bleu, Le) (1988)': 947, 'Pocahontas (1995)': 542, 'Turning, The (1992)': 1417, \"My Best Friend's Wedding (1997)\": 255, 'Fearless (1993)': 1045, \"Microcosmos: Le peuple de l'herbe (1996)\": 634, 'Taxi Driver (1976)': 23, 'M (1931)': 656, 'Mighty Morphin Power Rangers: The Movie (1995)': 374, 'Beavis and Butt-head Do America (1996)': 240, 'To Die For (1995)': 715, 'Death and the Maiden (1994)': 1109, 'Blues Brothers 2000 (1998)': 362, 'Killing Zoe (1994)': 943, 'Evening Star, The (1996)': 1061, 'Clerks (1994)': 42, 'Mrs. Dalloway (1997)': 1024, \"Singin' in the Rain (1952)\": 705, 'New York Cop (1996)': 1304, 'Crude Oasis, The (1995)': 1340, 'Radioland Murders (1994)': 394, 'Barcelona (1994)': 702, 'Alien: Resurrection (1997)': 343, \"She's the One (1996)\": 1048, 'Rebel Without a Cause (1955)': 506, 'Carpool (1996)': 1496, 'Manhattan Murder Mystery (1993)': 805, 'Jungle Book, The (1994)': 465, 'Die Hard: With a Vengeance (1995)': 550, 'Beyond Bedlam (1993)': 784, 'Bullets Over Broadway (1994)': 792, 'Addiction, The (1995)': 767, 'Selena (1997)': 1278, 'Matilda (1996)': 477, 'Street Fighter (1994)': 1413, 'To Have, or Not (1995)': 1590, 'Dangerous Minds (1995)': 366, 'Jaws (1975)': 234, 'Jurassic Park (1993)': 82, 'Love and Death on Long Island (1997)': 913, 'Third Man, The (1949)': 513, 'Some Folks Call It a Sling Blade (1993)': 963, 'Phantom, The (1996)': 826, 'Hard Rain (1998)': 349, 'Clockers (1995)': 1267, 'Unstrung Heroes (1995)': 953, 'Money Train (1995)': 540, 'Being There (1979)': 663, 'Persuasion (1995)': 694, \"William Shakespeare's Romeo and Juliet (1996)\": 421, 'Shall We Dance? (1996)': 251, 'Homage (1995)': 1320, 'Client, The (1994)': 356, 'Vampire in Brooklyn (1995)': 545, 'Full Speed (1996)': 1238, 'Rudy (1993)': 468, 'Amityville: A New Generation (1993)': 439, 'Chasers (1994)': 1489, 'Duck Soup (1933)': 430, 'Wyatt Earp (1994)': 570, 'Live Nude Girls (1995)': 1093, 'Nightmare on Elm Street, A (1984)': 219, \"I'm Not Rappaport (1996)\": 1120, \"Enfer, L' (1994)\": 1535, 'Desperate Measures (1998)': 348, 'Mute Witness (1994)': 773, 'Airheads (1994)': 940, 'Dumb & Dumber (1994)': 780, 'Cape Fear (1962)': 673, 'Cyclo (1995)': 1156, 'Little Rascals, The (1994)': 400, 'Angel Baby (1995)': 1643, 'Basquiat (1996)': 1010, 'Kicked in the Head (1997)': 1295, \"Things to Do in Denver when You're Dead (1995)\": 544, 'Escape from L.A. (1996)': 831, 'My Own Private Idaho (1991)': 537, 'Notorious (1946)': 489, 'First Wives Club, The (1996)': 476, 'Jack and Sarah (1995)': 1289, 'Much Ado About Nothing (1993)': 83, 'As Good As It Gets (1997)': 316, 'Bananas (1971)': 502, 'Brothers in Trouble (1995)': 1636, 'Murder at 1600 (1997)': 322, 'Year of the Horse (1997)': 884, 'Big Green, The (1995)': 996, 'Perez Family, The (1995)': 786, 'Love! Valour! Compassion! (1997)': 1160, 'Celestial Clockwork (1994)': 1080, 'Christmas Carol, A (1938)': 633, \"Kid in King Arthur's Court, A (1995)\": 560, 'Addams Family Values (1993)': 386, 'Police Story 4: Project S (Chao ji ji hua) (1993)': 599, 'Hard Eight (1996)': 1143, 'In Love and War (1996)': 1152, 'Room with a View, A (1986)': 213, 'Hugo Pool (1997)': 1617, 'Inkwell, The (1994)': 1186, 'Real Genius (1985)': 746, 'Big Lebowski, The (1998)': 902, 'Get Shorty (1995)': 4, 'Stargate (1994)': 62, 'Volcano (1997)': 678, 'Good Will Hunting (1997)': 272, 'Star Kid (1997)': 1293, 'Dumbo (1941)': 501, 'Bonnie and Clyde (1967)': 504, 'Thieves (Voleurs, Les) (1996)': 1462, 'From Dusk Till Dawn (1996)': 17, 'Three Colors: Blue (1993)': 60, 'Kull the Conqueror (1997)': 680, 'Meet John Doe (1941)': 837, 'American Strays (1996)': 1362, 'Of Love and Shadows (1994)': 1328, 'Bad Taste (1987)': 854, 'Zeus and Roxanne (1997)': 1164, 'Bulletproof (1996)': 833, 'Safe (1995)': 1131, 'Chain Reaction (1996)': 930, 'Kalifornia (1993)': 581, 'Replacement Killers, The (1998)': 752, 'Love in the Afternoon (1957)': 1269, 'Right Stuff, The (1983)': 193, 'Promise, The (Versprechen, Das) (1994)': 1563, 'George of the Jungle (1997)': 259, 'Streetcar Named Desire, A (1951)': 507, 'Terminal Velocity (1994)': 586, 'Great White Hype, The (1996)': 824, 'Drop Dead Fred (1991)': 1036, \"C'est arriv\\xe9 pr\\xe8s de chez vous (1992)\": 1104, 'Sirens (1994)': 737, 'Casino (1995)': 693, 'Basketball Diaries, The (1995)': 697, 'Low Life, The (1994)': 1329, 'It Could Happen to You (1994)': 794, 'Harriet the Spy (1996)': 929, 'Grumpier Old Men (1995)': 1028, \"Amityville 1992: It's About Time (1992)\": 437, 'Colonel Chabert, Le (1994)': 1485, 'Maltese Falcon, The (1941)': 484, 'Ghost (1990)': 402, \"Wes Craven's New Nightmare (1994)\": 567, 'Convent, The (Convento, O) (1995)': 1342, 'Shanghai Triad (Yao a yao yao dao waipo qiao) (1995)': 6, 'Stuart Saves His Family (1995)': 997, 'Fox and the Hound, The (1981)': 946, 'Sling Blade (1996)': 223, 'Penny Serenade (1941)': 1299, 'Mother (1996)': 321, 'Target (1995)': 1657, 'Mille bolle blu (1993)': 1349, 'Love Affair (1994)': 1297, 'True Lies (1994)': 385, 'He Walked by Night (1948)': 1604, 'Sliver (1993)': 1090, 'Vermont Is For Lovers (1992)': 1568, 'Twilight (1998)': 911, 'French Kiss (1995)': 781, 'Frighteners, The (1996)': 123, 'Reckless (1995)': 1479, 'Waterworld (1995)': 554, 'Restoration (1995)': 277, 'Lashou shentan (1992)': 1586, 'Sum of Us, The (1994)': 1167, 'Kim (1950)': 1200, 'Forget Paris (1995)': 1041, 'Show, The (1995)': 1547, 'Alien (1979)': 183, 'Love & Human Remains (1993)': 1166, 'Terminator, The (1984)': 195, 'Beverly Hills Cop III (1994)': 388, 'Ransom (1996)': 742, 'Wedding Singer, The (1998)': 354, 'Brothers McMullen, The (1995)': 26, 'Last Summer in the Hamptons (1995)': 1465, 'Nick of Time (1995)': 761, 'Last Time I Saw Paris, The (1954)': 1123, 'Journey of August King, The (1995)': 1317, 'Game, The (1997)': 333, 'Bhaji on the Beach (1993)': 1475, 'Casper (1995)': 768, 'Madonna: Truth or Dare (1991)': 1232, 'Return of the Pink Panther, The (1974)': 163, \"Carlito's Way (1993)\": 76, 'Spitfire Grill, The (1996)': 126, 'Lamerica (1994)': 1628, 'Barb Wire (1996)': 1215, 'Operation Dumbo Drop (1995)': 110, 'Screamers (1995)': 760, 'Brassed Off (1996)': 936, 'Wrong Trousers, The (1993)': 169, 'Prisoner of the Mountains (Kavkazsky Plennik) (1996)': 1501, 'Demolition Man (1993)': 578, 'Age of Innocence, The (1993)': 387, 'Wishmaster (1997)': 681, 'To Catch a Thief (1955)': 490, 'Jury Duty (1995)': 1029, 'Kids (1995)': 772, 'Great Escape, The (1963)': 520, 'Ed Wood (1994)': 47, 'Man in the Iron Mask, The (1998)': 1483, 'Sunset Blvd. (1950)': 488, 'Pinocchio (1940)': 404, 'Hate (Haine, La) (1995)': 1097, 'Little City (1998)': 1656, 'Looking for Richard (1996)': 847, 'North by Northwest (1959)': 480, 'Crows and Sparrows (1949)': 1350, 'Shadow Conspiracy (1997)': 984, 'Little Women (1994)': 699, 'American Werewolf in London, An (1981)': 436, 'Frankie Starlight (1995)': 1545, 'Death in Brunswick (1991)': 1593, 'Kicking and Screaming (1995)': 695, 'Jerry Maguire (1996)': 237, 'Shine (1996)': 531, \"Roseanna's Grave (For Roseanna) (1997)\": 1385, 'Strange Days (1995)': 39, 'The Courtyard (1995)': 1548, 'Fear of a Black Hat (1993)': 390, 'Best Men (1997)': 1138, 'Groundhog Day (1993)': 202, 'Fear, The (1995)': 1520, 'Mortal Kombat: Annihilation (1997)': 890, '187 (1997)': 330, 'Simple Wish, A (1997)': 1292, 'Heavyweights (1994)': 377, 'Bitter Sugar (Azucar Amargo) (1996)': 1639, 'Hamlet (1996)': 1039, 'Six Degrees of Separation (1993)': 1101, \"Rich Man's Wife, The (1996)\": 983, 'Golden Earrings (1947)': 1450, 'Last Action Hero (1993)': 391, 'Mother Night (1996)': 980, 'Getting Even with Dad (1994)': 1509, 'For Whom the Bell Tolls (1943)': 601, 'Georgia (1995)': 950, 'Charade (1963)': 945, 'Leopard Son, The (1996)': 1363, 'Raiders of the Lost Ark (1981)': 174, 'Nosferatu (Nosferatu, eine Symphonie des Grauens) (1922)': 675, 'Tetsuo II: Body Hammer (1992)': 1386, 'Young Guns II (1990)': 1188, 'Gone with the Wind (1939)': 133, 'Con Air (1997)': 1016, 'Robin Hood: Prince of Thieves (1991)': 627, 'Funeral, The (1996)': 933, 'Craft, The (1996)': 928, 'Foreign Correspondent (1940)': 1451, 'Mirror Has Two Faces, The (1996)': 220, 'Dunston Checks In (1996)': 1177, 'Inspector General, The (1949)': 968, 'True Crime (1995)': 592, 'Ghost in the Shell (Kokaku kidotai) (1995)': 1240, 'Short Cuts (1993)': 469, 'Rosewood (1997)': 292, 'My Favorite Season (1993)': 1448, 'Ponette (1996)': 536, 'Losing Isaiah (1995)': 1518, 'Assignment, The (1997)': 359, 'Godfather: Part II, The (1974)': 187, 'Batman Returns (1992)': 231, 'Adventures of Robin Hood, The (1938)': 491, 'Sudden Manhattan (1996)': 1644, 'Cronos (1992)': 1056, 'Body Snatchers (1993)': 670, 'Aiqing wansui (1994)': 1536, 'Raging Bull (1980)': 192, 'Falling in Love Again (1980)': 1374, \"Gone Fishin' (1997)\": 1254, 'Mighty Aphrodite (1995)': 13, 'D3: The Mighty Ducks (1996)': 138, 'M*A*S*H (1970)': 211, 'Mr. Smith Goes to Washington (1939)': 136, 'Man from Down Under, The (1943)': 1566, 'Out to Sea (1997)': 1283, 'His Girl Friday (1940)': 494, 'Speed (1994)': 568, 'You So Crazy (1994)': 1681, 'Old Yeller (1957)': 416, 'Wedding Bell Blues (1996)': 1668, 'All About Eve (1950)': 606, 'Broken English (1996)': 1255, 'Twelve Monkeys (1995)': 7, 'Unhook the Stars (1996)': 146, 'Searching for Bobby Fischer (1993)': 87, 'Telling Lies in America (1997)': 883, 'Three Colors: White (1994)': 61, \"Robert A. Heinlein's The Puppet Masters (1994)\": 84, 'Monty Python and the Holy Grail (1974)': 168, 'Laura (1944)': 611, 'A Chef in Love (1996)': 1251, 'Manhattan (1979)': 517, 'Love Jones (1997)': 872, 'Blue Angel, The (Blaue Engel, Der) (1930)': 617, 'Evil Dead II (1987)': 201, 'Delicatessen (1991)': 171, 'House Arrest (1996)': 1049, 'Miami Rhapsody (1995)': 700, 'Here Comes Cookie (1935)': 1461, 'Doom Generation, The (1995)': 34, 'Jingle All the Way (1996)': 862, 'Toy Story (1995)': 1, 'For Love or Money (1993)': 1249, 'Set It Off (1996)': 1277, 'Flipper (1996)': 112, 'Amityville Curse, The (1990)': 442, 'Home Alone (1990)': 94, 'Santa Clause, The (1994)': 63, 'City of Lost Children, The (1995)': 919, 'Postino, Il (1994)': 14, 'Apt Pupil (1998)': 315, 'Neon Bible, The (1995)': 1319, 'Purple Noon (1960)': 1198, 'Captives (1994)': 1327, 'Palmetto (1998)': 1313, 'Arrival, The (1996)': 825, 'Double vie de V\\xe9ronique, La (Double Life of Veronique, The) (1991)': 1005, 'Brady Bunch Movie, The (1995)': 401, 'Maximum Risk (1996)': 982, 'Clean Slate (1994)': 999, 'Outbreak (1995)': 54, 'Ed (1996)': 1287, 'Cure, The (1995)': 1468, 'Shooting Fish (1997)': 1434, 'Immortal Beloved (1994)': 727, 'Hungarian Fairy Tale, A (1987)': 1576, 'Waiting to Exhale (1995)': 1311, 'All Dogs Go to Heaven 2 (1996)': 103, 'Children of the Revolution (1996)': 1511, 'Swept from the Sea (1997)': 1394, 'African Queen, The (1951)': 498, 'Until the End of the World (Bis ans Ende der Welt) (1991)': 1006, 'Angela (1995)': 1603, 'Deconstructing Harry (1997)': 345, 'Home for the Holidays (1995)': 716, 'Days of Thunder (1990)': 849, 'Island of Dr. Moreau, The (1996)': 931, 'With Honors (1994)': 941, 'Mark of Zorro, The (1940)': 1116, 'Princess Caraboo (1994)': 1285, 'Tommy Boy (1995)': 790, \"Fathers' Day (1997)\": 1023, 'Midnight in the Garden of Good and Evil (1997)': 312, \"Mr. Holland's Opus (1995)\": 15, 'Bound (1996)': 129, 'Roman Holiday (1953)': 487, 'Mars Attacks! (1996)': 235, 'White Squall (1996)': 924, 'Excess Baggage (1997)': 877, 'Prefontaine (1997)': 1189, 'Thirty-Two Short Films About Glenn Gould (1993)': 811, 'Good Morning (1971)': 1373, 'Down by Law (1986)': 522, 'Feeling Minnesota (1996)': 1132, 'Parent Trap, The (1961)': 417, 'To Gillian on Her 37th Birthday (1996)': 846, 'Serial Mom (1994)': 396, 'Treasure of the Sierra Madre, The (1948)': 519, 'Ridicule (1996)': 224, 'Sudden Death (1995)': 363, 'Dingo (1992)': 1346, 'Baton Rouge (1988)': 1579, 'Dragonheart (1996)': 472, 'River Wild, The (1994)': 281, 'Air Up There, The (1994)': 801, \"Pyromaniac's Love Story, A (1995)\": 1072, 'Brother Minister: The Assassination of Malcolm X (1994)': 75, 'Substance of Fire, The (1996)': 1658, 'Star Trek: First Contact (1996)': 222, 'Batman (1989)': 403, 'Die xue shuang xiong (Killer, The) (1989)': 1019, 'Surviving the Game (1994)': 1314, 'Heathers (1989)': 433, 'Nobody Loves Me (Keiner liebt mich) (1994)': 1626, 'Blade Runner (1982)': 89, 'Primal Fear (1996)': 591, 'Home Alone 3 (1997)': 894, 'Liebelei (1933)': 1580, 'MatchMaker, The (1997)': 749, 'Mulholland Falls (1996)': 823, 'Heavenly Creatures (1994)': 558, 'Walk in the Sun, A (1945)': 1310, 'Tin Drum, The (Blechtrommel, Die) (1979)': 639, 'Surviving Picasso (1996)': 1117, 'Bed of Roses (1996)': 278, 'Perfect World, A (1993)': 686, 'Citizen Ruth (1996)': 236, 'Interview with the Vampire (1994)': 559, 'Englishman Who Went Up a Hill, But Came Down a Mountain, The (1995)': 580, 'Stalker (1979)': 1159, 'Canadian Bacon (1994)': 719, 'An Unforgettable Summer (1994)': 1330, 'In the Realm of the Senses (Ai no corrida) (1976)': 1214, 'Robocop 3 (1993)': 1274, 'Window to Paris (1994)': 1492, 'Michael (1996)': 866, 'Seven Years in Tibet (1997)': 690, 'Fast, Cheap & Out of Control (1997)': 1022, 'Moonlight and Valentino (1995)': 1441, 'Exit to Eden (1994)': 725, 'Sleepless in Seattle (1993)': 88, 'Shallow Grave (1994)': 1073, 'Stranger, The (1994)': 1372, 'True Romance (1993)': 92, 'Rainmaker, The (1997)': 310, 'Bitter Moon (1992)': 1268, 'Stars Fell on Henrietta, The (1995)': 1464, 'Mystery Science Theater 3000: The Movie (1996)': 109, 'Grosse Fatigue (1994)': 1499, 'Price Above Rubies, A (1998)': 1602, 'Just Cause (1995)': 1042, 'Every Other Weekend (1990)': 1348, 'Rear Window (1954)': 603, 'Twin Town (1997)': 1534, 'Face/Off (1997)': 298, 'Fire on the Mountain (1996)': 677, 'My Fair Lady (1964)': 485, 'Jane Eyre (1996)': 740, 'I Shot Andy Warhol (1996)': 1008, 'Amazing Panda Adventure, The (1995)': 1540, 'Germinal (1993)': 1488, 'Double Team (1997)': 1088, 'Playing God (1997)': 336, 'Abyss, The (1989)': 164, 'Seven (Se7en) (1995)': 11, 'Paradise Lost: The Child Murders at Robin Hood Hills (1996)': 320, 'Clear and Present Danger (1994)': 566, 'Net, The (1995)': 38, 'Visitors, The (Visiteurs, Les) (1993)': 1472, 'New Jersey Drive (1995)': 1519, 'Being Human (1993)': 1539, \"Joe's Apartment (1996)\": 1079, 'Picture Perfect (1997)': 873, 'Nightmare Before Christmas, The (1993)': 91, 'Secret Agent, The (1996)': 1205, 'Full Metal Jacket (1987)': 188, 'Gold Diggers: The Secret of Bear Mountain (1995)': 1503, 'Lassie (1994)': 1031, 'Angel and the Badman (1947)': 1454, 'Billy Madison (1995)': 41, 'Death in the Garden (Mort en ce jardin, La) (1956)': 1577, 'Love Serenade (1996)': 1605, 'People vs. Larry Flynt, The (1996)': 508, 'Jimmy Hollywood (1994)': 804, 'Land and Freedom (Tierra y libertad) (1995)': 1632, 'Machine, The (1994)': 1371, 'Rent-a-Kid (1995)': 1043, 'Traveller (1997)': 534, 'In the Name of the Father (1993)': 317, 'Snow White and the Seven Dwarfs (1937)': 99, 'Stefano Quantestorie (1993)': 1339, 'Up Close and Personal (1996)': 280, 'House Party 3 (1994)': 1437, 'Reluctant Debutante, The (1958)': 1614, 'Pump Up the Volume (1990)': 658, 'Tie That Binds, The (1995)': 1253, 'Escape to Witch Mountain (1975)': 1133, 'Mr. Jones (1993)': 1436, 'Glass Shield, The (1994)': 1551, 'Drunks (1995)': 1427, 'Mirage (1995)': 1673, 'Butterfly Kiss (1995)': 1621, 'Copycat (1995)': 5, 'Leading Man, The (1996)': 1612, 'Castle Freak (1995)': 777, 'Mis\\xe9rables, Les (1995)': 543, 'Above the Rim (1994)': 1440, 'Van, The (1996)': 1241, \"Jackie Chan's First Strike (1996)\": 455, 'Black Beauty (1994)': 389, 'Menace II Society (1993)': 806, 'Little Princess, The (1939)': 1473, 'How to Be a Player (1997)': 335, 'Celluloid Closet, The (1995)': 813, 'Contempt (M\\xe9pris, Le) (1963)': 1252, 'Highlander III: The Sorcerer (1994)': 1419, 'Sabrina (1995)': 274, 'Anna Karenina (1997)': 990, 'Fatal Instinct (1993)': 579, 'Mina Tannenbaum (1994)': 1368, 'Cosi (1996)': 1537, 'Love and Other Catastrophes (1996)': 1379, 'In the Mouth of Madness (1995)': 800, 'Getting Away With Murder (1996)': 1659, 'Remains of the Day, The (1993)': 86, '\\xc1 k\\xf6ldum klaka (Cold Fever) (1994)': 1633, 'Good Man in Africa, A (1994)': 1523, 'Hour of the Pig, The (1993)': 587, 'Money Talks (1997)': 881, 'Space Jam (1996)': 820, 'Anne Frank Remembered (1995)': 1084, 'U Turn (1997)': 334, 'Sex, Lies, and Videotape (1989)': 708, 'Houseguest (1994)': 376, 'Juror, The (1996)': 717, 'Happy Gilmore (1996)': 763, 'Senseless (1998)': 1527, 'Dream Man (1995)': 1549, 'Great Day in Harlem, A (1994)': 814, 'E.T. the Extra-Terrestrial (1982)': 423, 'C\\xe9r\\xe9monie, La (1995)': 1623, 'Eraser (1996)': 597, 'Psycho (1960)': 185, 'Substitute, The (1996)': 977, 'Backbeat (1993)': 1153, 'Browning Version, The (1994)': 698, 'Lost Horizon (1937)': 612, 'Welcome to the Dollhouse (1995)': 93, 'Cable Guy, The (1996)': 122, 'Spawn (1997)': 358, \"National Lampoon's Senior Trip (1995)\": 1305, 'Crossfire (1947)': 1064, 'Mission: Impossible (1996)': 405, 'Birds, The (1963)': 443, 'For the Moment (1994)': 1357, 'Highlander (1986)': 431, 'Blue Chips (1994)': 1145, 'Red Rock West (1992)': 466, 'Better Off Dead... (1985)': 710, 'Once Were Warriors (1994)': 1194, 'Boot, Das (1981)': 515, 'That Old Feeling (1997)': 1190, 'Caro Diario (Dear Diary) (1994)': 1403, 'Jumanji (1995)': 755, 'Hunt for Red October, The (1990)': 265, 'Private Parts (1997)': 1012, \"I Can't Sleep (J'ai pas sommeil) (1994)\": 1370, 'Guantanamera (1994)': 1600, 'Palookaville (1996)': 1161, 'Next Step, The (1995)': 1667, 'Spanking the Monkey (1994)': 1170, 'Caught (1996)': 1174, 'King of New York (1990)': 1618, 'Santa with Muscles (1996)': 1500, 'Paper, The (1994)': 1044, 'City Hall (1996)': 696, 'Hercules (1997)': 993, 'Land Before Time III: The Time of the Great Giving (1995) (V)': 1412, 'Nelly & Monsieur Arnaud (1995)': 1506, 'While You Were Sleeping (1995)': 66, 'Warriors of Virtue (1997)': 1615, 'Living in Oblivion (1995)': 1070, 'Talking About Sex (1994)': 1272, 'Strictly Ballroom (1992)': 709, 'Like Water For Chocolate (Como agua para chocolate) (1992)': 462, 'Son in Law (1993)': 585, 'Sabrina (1954)': 486, 'Secrets & Lies (1996)': 285, 'Promesse, La (1996)': 296, 'Sleepover (1995)': 1460, 'Candidate, The (1972)': 503, 'Bride of Frankenstein (1935)': 671, 'Pompatus of Love, The (1996)': 1312, \"My Life and Times With Antonin Artaud (En compagnie d'Antonin Artaud) (1993)\": 1332, 'Lost in Space (1998)': 916, 'Star Trek VI: The Undiscovered Country (1991)': 227, 'Frisk (1995)': 817, 'Aladdin and the King of Thieves (1996)': 422, 'Terror in a Texas Town (1958)': 1587, 'Madness of King George, The (1994)': 52, 'Modern Affair, A (1995)': 1493, 'Up in Smoke (1978)': 1118, 'Stranger in the House (1997)': 1399, 'Made in America (1993)': 734, 'Mixed Nuts (1994)': 1209, 'In the Line of Duty 2 (1987)': 838, 'Killing Fields, The (1984)': 528, 'Man of the House (1995)': 1179, 'Picture Bride (1995)': 1400, '101 Dalmatians (1996)': 225, 'Hideaway (1995)': 1471, 'Killer (Bulletproof Heart) (1994)': 1275, 'Getaway, The (1994)': 1303, \"Dante's Peak (1997)\": 323, 'Adventures of Priscilla, Queen of the Desert, The (1994)': 382, 'Angels in the Outfield (1994)': 623, 'unknown': 267, 'Denise Calls Up (1995)': 1288, 'Original Gangstas (1996)': 1151, \"Young Poisoner's Handbook, The (1995)\": 547, 'Maverick (1994)': 73, 'Pagemaster, The (1994)': 1076, 'Judge Dredd (1995)': 373, 'Top Gun (1986)': 161, 'Roommates (1995)': 787, 'Wings of the Dove, The (1997)': 311, 'Braveheart (1995)': 22, 'Touch (1997)': 870, 'Wild Bunch, The (1969)': 589, 'Piano, The (1993)': 582, 'Carrie (1976)': 447, 'Late Bloomers (1996)': 1302, 'Man Who Would Be King, The (1975)': 530, 'War, The (1994)': 1058, 'Walking and Talking (1996)': 1262, 'Killer: A Journal of Murder (1995)': 1505, 'Twisted (1996)': 1237, 'Steal Big, Steal Little (1995)': 1435, 'Kiss Me, Guido (1997)': 995, 'Apollo 13 (1995)': 28, 'Welcome To Sarajevo (1997)': 1176, 'Extreme Measures (1996)': 619, 'Winnie the Pooh and the Blustery Day (1968)': 969, 'Nothing to Lose (1994)': 1264, 'Symphonie pastorale, La (1946)': 1584, 'New Age, The (1994)': 1661, 'Nosferatu a Venezia (1986)': 861, 'Star Trek IV: The Voyage Home (1986)': 230, '1-900 (1994)': 1353, 'Red Corner (1997)': 754, 'Across the Sea of Time (1995)': 757, 'Girls Town (1996)': 1637, 'Wolf (1994)': 569, 'Speed 2: Cruise Control (1997)': 1089, 'Shooter, The (1995)': 1027, 'Gaslight (1944)': 1020, 'Wild Bill (1995)': 556, 'Stupids, The (1996)': 1001, 'Fog, The (1980)': 635, 'Usual Suspects, The (1995)': 12, 'I Like It Like That (1994)': 1424, 'Career Girls (1997)': 874, 'Rising Sun (1993)': 809, 'Gay Divorcee, The (1934)': 835, 'Sliding Doors (1998)': 1680, 'Wild America (1997)': 1279, 'Broken Arrow (1996)': 546, 'Turbo: A Power Rangers Movie (1997)': 247, 'Hard Target (1993)': 802, 'Sphere (1998)': 355, 'Smoke (1995)': 461, 'Mamma Roma (1962)': 1674, 'Blues Brothers, The (1980)': 186, 'Naked Gun 33 1/3: The Final Insult (1994)': 384, 'First Knight (1995)': 720, 'Pather Panchali (1955)': 1449, 'Before Sunrise (1995)': 955, 'Quiz Show (1994)': 58, 'Maybe, Maybe Not (Bewegte Mann, Der) (1994)': 1202, 'Scream 2 (1997)': 895, 'Salut cousin! (1996)': 1588, \"I Don't Want to Talk About It (De eso no se habla) (1993)\": 1533, \"It's My Party (1995)\": 1086, 'Ghost and Mrs. Muir, The (1947)': 1050, 'Reality Bites (1994)': 1074, 'Girl in the Cadillac (1995)': 1486, 'Crumb (1994)': 32, 'My Life as a Dog (Mitt liv som hund) (1985)': 529, 'Two Friends (1986) ': 1635, 'Kika (1993)': 1672, 'Dead Man Walking (1995)': 9, 'Flintstones, The (1994)': 383, 'Witness (1985)': 1526, 'Richard III (1995)': 10, \"Daniel Defoe's Robinson Crusoe (1996)\": 600, 'Crimson Tide (1995)': 31, 'Amityville 3-D (1983)': 438, 'Withnail and I (1987)': 1404, 'Half Baked (1998)': 908, 'Free Willy (1993)': 78, 'Boys, Les (1997)': 1463, 'Kiss the Girls (1997)': 332, 'Small Faces (1995)': 1660, 'Dead Man (1995)': 922, 'That Thing You Do! (1996)': 845, 'Davy Crockett, King of the Wild Frontier (1955)': 621, 'Benny & Joon (1993)': 747, 'Jackie Brown (1997)': 346, 'Delta of Venus (1994)': 1306, 'Life with Mikey (1993)': 1270, 'Phantoms (1998)': 885, 'Thin Man, The (1934)': 493, 'Ayn Rand: A Sense of Life (1997)': 1294, 'Swingers (1996)': 150, 'Beyond Rangoon (1995)': 1107, 'Favor, The (1994)': 1655, 'Flesh and Bone (1993)': 1212, 'Safe Passage (1994)': 1554, 'Dirty Dancing (1987)': 155, 'Paris Was a Woman (1995)': 857, 'Spy Hard (1996)': 407, 'Kaspar Hauser (1993)': 1524, 'Contact (1997)': 258, 'Mr. Wonderful (1993)': 1521, 'Metisse (Caf\\xe9 au Lait) (1993)': 1322, 'Tales From the Crypt Presents: Demon Knight (1995)': 379, 'American Buffalo (1996)': 1335, 'Object of My Affection, The (1998)': 1525, 'Ill Gotten Gains (1997)': 1430, 'Cyrano de Bergerac (1990)': 207, 'Squeeze (1996)': 1384, 'Fried Green Tomatoes (1991)': 660, 'Office Killer (1997)': 1601, 'Shining, The (1980)': 200, 'Legends of the Fall (1994)': 51, 'Nell (1994)': 729, 'Bad Moon (1996)': 706, 'Amityville II: The Possession (1982)': 440, 'Men of Means (1998)': 1433, 'Judgment Night (1993)': 1222, 'I Love Trouble (1994)': 1180, 'Scarlet Letter, The (1995)': 1442, 'Shadow of Angels (Schatten der Engel) (1976)': 1352, 'Beautiful Girls (1996)': 762, 'Bedknobs and Broomsticks (1971)': 142, 'In the Army Now (1994)': 1185, 'Dolores Claiborne (1994)': 44, 'Sound of Music, The (1965)': 143, 'That Darn Cat! (1965)': 1444, 'Body Parts (1991)': 669, 'Color of Night (1994)': 1273, 'Unforgettable (1996)': 925, 'Meet Me in St. Louis (1944)': 605, 'B*A*P*S (1997)': 1609, 'First Kid (1996)': 932, 'Newton Boys, The (1998)': 1106, 'Invitation, The (Zaproszenie) (1986)': 1583, 'Somebody to Love (1994)': 1334, 'Garden of Finzi-Contini, The (Giardino dei Finzi-Contini, Il) (1970)': 863, 'When a Man Loves a Woman (1994)': 1221, 'Rosencrantz and Guildenstern Are Dead (1990)': 652, 'Dead Poets Society (1989)': 196, 'Grass Harp, The (1995)': 1282, 'Mary Poppins (1964)': 419, 'Free Willy 2: The Adventure Home (1995)': 35, 'This Is Spinal Tap (1984)': 209, 'Forbidden Christ, The (Cristo proibito, Il) (1950)': 1369, 'That Darn Cat! (1997)': 1003, 'War at Home, The (1996)': 1676, 'Bringing Up Baby (1938)': 497, 'Spirits of the Dead (Tre passi nel delirio) (1968)': 1573, 'Hollow Reed (1996)': 1380, 'Lost Highway (1997)': 324, 'Star Trek: The Wrath of Khan (1982)': 228, 'Kazaam (1996)': 1336, 'When Night Is Falling (1995)': 1406, 'Executive Decision (1996)': 685, 'Mercury Rising (1998)': 917, \"Jason's Lyric (1994)\": 1439, 'Once Upon a Time in America (1984)': 649, 'Last of the Mohicans, The (1992)': 241, 'Man Without a Face, The (1993)': 392, \"Eve's Bayou (1997)\": 887, 'Curdled (1996)': 1081, 'Even Cowgirls Get the Blues (1993)': 1487, \"Bram Stoker's Dracula (1992)\": 217, \"April Fool's Day (1986)\": 859, 'Faces (1968)': 822, 'Jaws 3-D (1983)': 453, 'Loaded (1994)': 1324, 'Halloween: The Curse of Michael Myers (1995)': 834, 'Sexual Life of the Belgians, The (1994)': 1360, 'Phat Beach (1996)': 1162, 'Ladybird Ladybird (1994)': 1445, 'Star Maps (1997)': 1265, 'Lawrence of Arabia (1962)': 511, 'Flirting With Disaster (1996)': 1098, 'Cinema Paradiso (1988)': 170, 'Spellbound (1945)': 608, 'Duoluo tianshi (1995)': 1591, 'Army of Darkness (1993)': 184, 'GoodFellas (1990)': 182, 'Kolya (1996)': 242, 'Tough and Deadly (1995)': 1491, 'Belle de jour (1967)': 30, 'Soul Food (1997)': 880, 'Tigrero: A Film That Was Never Made (1994)': 1561, 'Homeward Bound II: Lost in San Francisco (1996)': 1033, 'Panther (1995)': 1438, 'Mrs. Doubtfire (1993)': 393, 'It Happened One Night (1934)': 604, 'When the Cats Away (Chacun cherche son chat) (1996)': 256, 'Crucible, The (1996)': 676, 'Four Weddings and a Funeral (1994)': 70, 'Fire Down Below (1997)': 1025, 'Rendezvous in Paris (Rendez-vous de Paris, Les) (1995)': 1155, \"Pete's Dragon (1977)\": 1091, 'Angels and Insects (1995)': 20, 'Akira (1988)': 206, 'Austin Powers: International Man of Mystery (1997)': 249, 'House of Yes, The (1997)': 337, 'Swimming with Sharks (1995)': 789, 'Theodore Rex (1995)': 104, 'Get on the Bus (1996)': 1134, 'Blood Beach (1981)': 668, 'Normal Life (1996)': 1638, 'Solo (1996)': 976, 'Crow: City of Angels, The (1996)': 743, 'Power 98 (1995)': 830, 'Gumby: The Movie (1995)': 1470, 'Cinderella (1950)': 418, 'Some Like It Hot (1959)': 482, 'Hedd Wyn (1992)': 1341, 'Crash (1996)': 325, 'Balto (1995)': 1066, 'Graduate, The (1967)': 197, 'Kingpin (1996)': 410, 'Some Kind of Wonderful (1987)': 1119, 'Cool Hand Luke (1967)': 523, 'Priest (1994)': 57, 'Twister (1996)': 118, 'East of Eden (1955)': 492, 'Field of Dreams (1989)': 215, \"It's a Wonderful Life (1946)\": 496, 'Great Dictator, The (1940)': 524, 'American Dream (1990)': 1585, 'Fled (1996)': 829, 'Story of Xinghua, The (1993)': 1344, 'Indiana Jones and the Last Crusade (1989)': 210, 'Lone Star (1996)': 124, 'Locusts, The (1997)': 1392, 'Ref, The (1994)': 85, 'For Ever Mozart (1996)': 1391, '8 1/2 (1963)': 1021, 'Fall (1997)': 1387, \"Romy and Michele's High School Reunion (1997)\": 1014, 'Tom and Huck (1995)': 1469, 'Platoon (1986)': 157, \"Antonia's Line (1995)\": 19, 'To Wong Foo, Thanks for Everything! Julie Newmar (1995)': 40, 'King of the Hill (1993)': 1223, 'T-Men (1947)': 1582, 'Bird of Prey (1996)': 1364, 'Girl 6 (1996)': 818, 'Apocalypse Now (1979)': 180, 'Ripe (1996)': 1666, 'White Balloon, The (1995)': 18, 'Thin Blue Line, The (1988)': 644, 'Omen, The (1976)': 448, 'Amateur (1994)': 1069, 'Hearts and Minds (1996)': 868, 'Life Less Ordinary, A (1997)': 886, 'Bastard Out of Carolina (1996)': 454, 'Sleeper (1973)': 152, 'Orlando (1993)': 961}\n"
     ]
    }
   ],
   "source": [
    "#Nearest Neighbour based Recommender System\n",
    "#Task t2a: \n",
    "# Create a dictionary where key is Movie Name and value is id\n",
    "#       You can either use the movies_df or read and parse the u.item file yourself\n",
    "movie_name_to_id_dictionary = {}\n",
    "\n",
    "#Write code to populate the movie names to this array\n",
    "all_movie_names = []\n",
    "\n",
    "f = open(\"ml-100k/u.item\", \"r\")\n",
    "lines = f.readlines()\n",
    "for line in lines:\n",
    "    data = line.split(\"|\")\n",
    "    movie_name, movie_id = data[1], int(data[0])\n",
    "    movie_name_to_id_dictionary[movie_name] = movie_id\n",
    "    all_movie_names.append(movie_name)\n",
    "f.close()\n",
    "\n",
    "#print movie_name_to_id_dictionary\n",
    "#print all_movie_names"
   ]
  },
  {
   "cell_type": "code",
   "execution_count": 43,
   "metadata": {
    "collapsed": false
   },
   "outputs": [
    {
     "name": "stdout",
     "output_type": "stream",
     "text": [
      "0         True\n",
      "1        False\n",
      "2        False\n",
      "3        False\n",
      "4        False\n",
      "5        False\n",
      "6        False\n",
      "7        False\n",
      "8        False\n",
      "9        False\n",
      "10       False\n",
      "11       False\n",
      "12       False\n",
      "13       False\n",
      "14       False\n",
      "15       False\n",
      "16       False\n",
      "17       False\n",
      "18       False\n",
      "19       False\n",
      "20       False\n",
      "21       False\n",
      "22       False\n",
      "23       False\n",
      "24       False\n",
      "25       False\n",
      "26       False\n",
      "27       False\n",
      "28       False\n",
      "29       False\n",
      "         ...  \n",
      "99970    False\n",
      "99971    False\n",
      "99972    False\n",
      "99973    False\n",
      "99974    False\n",
      "99975    False\n",
      "99976    False\n",
      "99977    False\n",
      "99978    False\n",
      "99979    False\n",
      "99980    False\n",
      "99981    False\n",
      "99982    False\n",
      "99983    False\n",
      "99984    False\n",
      "99985    False\n",
      "99986    False\n",
      "99987    False\n",
      "99988    False\n",
      "99989    False\n",
      "99990    False\n",
      "99991    False\n",
      "99992    False\n",
      "99993    False\n",
      "99994    False\n",
      "99995    False\n",
      "99996    False\n",
      "99997    False\n",
      "99998    False\n",
      "99999    False\n",
      "Name: MovieId, dtype: bool\n"
     ]
    },
    {
     "data": {
      "text/html": [
       "<div>\n",
       "<table border=\"1\" class=\"dataframe\">\n",
       "  <thead>\n",
       "    <tr style=\"text-align: right;\">\n",
       "      <th></th>\n",
       "      <th>MovieId</th>\n",
       "      <th>Title</th>\n",
       "      <th>UserId</th>\n",
       "      <th>Rating</th>\n",
       "      <th>Age</th>\n",
       "      <th>Gender</th>\n",
       "      <th>Occupation</th>\n",
       "      <th>ZipCode</th>\n",
       "    </tr>\n",
       "  </thead>\n",
       "  <tbody>\n",
       "    <tr>\n",
       "      <th>20103</th>\n",
       "      <td>1</td>\n",
       "      <td>Toy Story (1995)</td>\n",
       "      <td>1</td>\n",
       "      <td>5</td>\n",
       "      <td>24</td>\n",
       "      <td>M</td>\n",
       "      <td>technician</td>\n",
       "      <td>85711</td>\n",
       "    </tr>\n",
       "    <tr>\n",
       "      <th>15002</th>\n",
       "      <td>1</td>\n",
       "      <td>Toy Story (1995)</td>\n",
       "      <td>2</td>\n",
       "      <td>4</td>\n",
       "      <td>53</td>\n",
       "      <td>F</td>\n",
       "      <td>other</td>\n",
       "      <td>94043</td>\n",
       "    </tr>\n",
       "    <tr>\n",
       "      <th>820</th>\n",
       "      <td>1</td>\n",
       "      <td>Toy Story (1995)</td>\n",
       "      <td>5</td>\n",
       "      <td>4</td>\n",
       "      <td>33</td>\n",
       "      <td>F</td>\n",
       "      <td>other</td>\n",
       "      <td>15213</td>\n",
       "    </tr>\n",
       "    <tr>\n",
       "      <th>35865</th>\n",
       "      <td>1</td>\n",
       "      <td>Toy Story (1995)</td>\n",
       "      <td>6</td>\n",
       "      <td>4</td>\n",
       "      <td>42</td>\n",
       "      <td>M</td>\n",
       "      <td>executive</td>\n",
       "      <td>98101</td>\n",
       "    </tr>\n",
       "  </tbody>\n",
       "</table>\n",
       "</div>"
      ],
      "text/plain": [
       "       MovieId             Title  UserId  Rating  Age Gender  Occupation  \\\n",
       "20103        1  Toy Story (1995)       1       5   24      M  technician   \n",
       "15002        1  Toy Story (1995)       2       4   53      F       other   \n",
       "820          1  Toy Story (1995)       5       4   33      F       other   \n",
       "35865        1  Toy Story (1995)       6       4   42      M   executive   \n",
       "\n",
       "      ZipCode  \n",
       "20103   85711  \n",
       "15002   94043  \n",
       "820     15213  \n",
       "35865   98101  "
      ]
     },
     "execution_count": 43,
     "metadata": {},
     "output_type": "execute_result"
    }
   ],
   "source": [
    "#Task t2b: Write a function that takes two inputs: \n",
    "#  movie_id: id of the movie and common_users: a set of user ids\n",
    "# and returns the list of rows corresponding to their movie ratings \n",
    "\n",
    "def get_movie_reviews(movie_id, common_users):\n",
    "    #Get a boolean vector for themovielens_dfns_dfs provided by users in common_users for movie movie_id\n",
    "    # Hint: use the isin operator of Pandas\n",
    "    mask = (movielens_df['UserId'].isin(common_users)) & (movielens_df['MovieId'] == movie_id)\n",
    "    \n",
    "    \n",
    "    #Create a subset of data where the mask is True i.e. only collect data from users who satisfy the condition above\n",
    "    # Then sort them based on userid\n",
    "    movie_ratings = movielens_df[mask].sort('UserId')\n",
    "    #print movie_ratings\n",
    "    \n",
    "    #Do not change below\n",
    "    #Return the unique set of ratings provided\n",
    "    movie_ratings = movie_ratings[movie_ratings['UserId'].duplicated()==False]\n",
    "    return movie_ratings\n",
    "\n",
    "\n",
    "get_movie_reviews(1, set(range(1, 10)))"
   ]
  },
  {
   "cell_type": "code",
   "execution_count": null,
   "metadata": {
    "collapsed": true
   },
   "outputs": [],
   "source": [
    "#Do not change below\n",
    "\n",
    "#Here are some sample test cases for evaluating t2b\n",
    "print \"get_movie_reviews(1, set([1]))\"\n",
    "display( get_movie_reviews(1, set([1])) )\n",
    "\n",
    "print \"get_movie_reviews(1, set(range(1, 10)))\"\n",
    "display( get_movie_reviews(1, set(range(1, 10))) )\n",
    "\n",
    "print \"get_movie_reviews(100, set(range(1, 10)))\"\n",
    "display( get_movie_reviews(100, set(range(1, 10))) )\n",
    "\n",
    "print \"get_movie_reviews(784, set(range(1, 784)))\"\n",
    "display( get_movie_reviews(784, set(range(1, 784))) "
   ]
  },
  {
   "cell_type": "code",
   "execution_count": 55,
   "metadata": {
    "collapsed": false
   },
   "outputs": [],
   "source": [
    "#Task t2c: Let us now calculate the similarity between two movies\n",
    "# based on the set of users who rated both movies\n",
    "#Using euclidean distance is a bad idea - but simplifies the code\n",
    "\n",
    "def calculate_similarity(movie_name_1, movie_name_2, min_common_users=0):\n",
    "    \n",
    "    movie1 = movie_name_to_id_dictionary[movie_name_1]\n",
    "    movie2 = movie_name_to_id_dictionary[movie_name_2]\n",
    "    \n",
    "    #This is the set of UNIQUE user ids  who reviewed  movie1\n",
    "    users_who_rated_movie1 = movielens_df[movielens_df['MovieId'] == movie1]['UserId'].unique()\n",
    "    \n",
    "    #This is the set of UNIQUE user ids  who reviewed  movie2\n",
    "    users_who_rated_movie2 = movielens_df[movielens_df['MovieId'] == movie2]['UserId'].unique()\n",
    "    \n",
    "    #Compute the common users who rated both movies: \n",
    "    # hint convert both to set and do the intersection\n",
    "    common_users = set(users_who_rated_movie1).intersection(users_who_rated_movie2)\n",
    "    \n",
    "    #Using the code you wrote in t2a, get the reviews for the movies and common users\n",
    "    movie1_reviews = get_movie_reviews(movie1, common_users)\n",
    "    movie2_reviews = get_movie_reviews(movie2, common_users)\n",
    "    \n",
    "    #Now you have the data frame for both movies\n",
    "    # Use the euclidean_distances function from sklean (imported already)\n",
    "    # to compute the distance between their rating values\n",
    "    distance = euclidean_distances(movie1_reviews['Rating'], movie2_reviews['Rating'])\n",
    "\n",
    "    if len(common_users) < min_common_users:\n",
    "        return [[float('inf')]]\n",
    "    return distance\n"
   ]
  },
  {
   "cell_type": "code",
   "execution_count": 54,
   "metadata": {
    "collapsed": false
   },
   "outputs": [
    {
     "name": "stdout",
     "output_type": "stream",
     "text": [
      "[308 287 148 280  66   5 109 181  95 268 189 145 158  67 232 150 289 117\n",
      "  49 223  56  17 340 177 194 250 213 350 348 131 106 234  43  20 246  94\n",
      " 279  38 128  96 203 157 311 125 286  83 301 345  18 322  64  45 247 204\n",
      " 271  41 274 222  15  23 141 359 374 380  10 320 160 396 339 199 422  81\n",
      "  42 357  26 327 200  44 256 174  97 243 101 490 242 312 325 456 347 360\n",
      " 450  84 198 494 525   2  62 343 298 459 407 471 535 500 512 275 252 230\n",
      " 249  93 514 193 484  54  75 338  13 472 541 209 144 417 454 313 202 579\n",
      " 447 137 508   1 569 416 291 401 479 567 561 390 162 332 363 455 394 120\n",
      " 297 540 231 560 379  59  99 254 533 441 292 262 483  16 592 526 307 344\n",
      " 649 299 324 545 517  82 658 460 622 429  73 326 330 532 470 620 263 184\n",
      " 577 248 699 534 505 425 691 406 432 657 305 487  77 235 151 642 708 244\n",
      " 735 523 749 705 636 276 635 478 381  92 467 716 763 465 613 588 676 643\n",
      " 562 178 677 253 697 614 798 777 637 371 290 770 618 684  89 706   6  63\n",
      " 674 648  65 497 731 378 655 395 835 768 402 435 134 817 761 634 807 554\n",
      " 790 503 486 632 804 650 831 654 493 365 710 612 610 468 296 723 168 130\n",
      " 488 621 868 678 663 424 597 669 885 756 788  79 727 879 897 796 887 746\n",
      " 602 771 580 794 759 411 872 821 624 388 744  25 438 883 921 216 138 295\n",
      " 789 886 303 336 893 550 792 823 773 896 864 715 913 458 742 830 733 518\n",
      " 293 463 630 929 714 679 924 210 660 698 764 805 665  58 251 549 751 785\n",
      " 609 903 703  72 826 314 916 933 387 108 389 553 182 919 403 661 815 854\n",
      " 331 890 124 882 779 542 852 605 399 294 870 277 690 537 838 412 653 847\n",
      " 201 606 881 769 664 918 576 680 536 889  57 393 521 745 726 867  70 419\n",
      " 922 894 599 910 829 738 901 795 843 102 757 930 899 730 121 548 936 457\n",
      " 793 767 806 934 822 689 935 839 495 582 892 701 721 880 927 434 865 552\n",
      " 923 692 917  21 902 748 938 932 941 907 265 709 445 398 682 895 747 786\n",
      " 800 593]\n"
     ]
    },
    {
     "ename": "TypeError",
     "evalue": "object of type 'NoneType' has no len()",
     "output_type": "error",
     "traceback": [
      "\u001b[1;31m---------------------------------------------------------------------------\u001b[0m",
      "\u001b[1;31mTypeError\u001b[0m                                 Traceback (most recent call last)",
      "\u001b[1;32m<ipython-input-54-41efa4f2735a>\u001b[0m in \u001b[0;36m<module>\u001b[1;34m()\u001b[0m\n\u001b[0;32m      1\u001b[0m \u001b[1;31m#Do not change below\u001b[0m\u001b[1;33m\u001b[0m\u001b[1;33m\u001b[0m\u001b[0m\n\u001b[1;32m----> 2\u001b[1;33m \u001b[1;32mprint\u001b[0m \u001b[0mcalculate_similarity\u001b[0m\u001b[1;33m(\u001b[0m\u001b[1;34m\"Toy Story (1995)\"\u001b[0m\u001b[1;33m,\u001b[0m \u001b[1;34m\"GoldenEye (1995)\"\u001b[0m\u001b[1;33m)\u001b[0m\u001b[1;33m\u001b[0m\u001b[0m\n\u001b[0m\u001b[0;32m      3\u001b[0m \u001b[1;32mprint\u001b[0m \u001b[0mcalculate_similarity\u001b[0m\u001b[1;33m(\u001b[0m\u001b[1;34m\"GoldenEye (1995)\"\u001b[0m\u001b[1;33m,\u001b[0m \u001b[1;34m\"Tomorrow Never Dies (1997)\"\u001b[0m\u001b[1;33m)\u001b[0m\u001b[1;33m\u001b[0m\u001b[0m\n\u001b[0;32m      4\u001b[0m \u001b[1;32mprint\u001b[0m \u001b[0mcalculate_similarity\u001b[0m\u001b[1;33m(\u001b[0m\u001b[1;34m\"Batman Forever (1995)\"\u001b[0m\u001b[1;33m,\u001b[0m \u001b[1;34m\"Batman & Robin (1997)\"\u001b[0m\u001b[1;33m)\u001b[0m\u001b[1;33m\u001b[0m\u001b[0m\n",
      "\u001b[1;32m<ipython-input-53-3e65c821cc84>\u001b[0m in \u001b[0;36mcalculate_similarity\u001b[1;34m(movie_name_1, movie_name_2, min_common_users)\u001b[0m\n\u001b[0;32m     28\u001b[0m     \u001b[0mdistance\u001b[0m \u001b[1;33m=\u001b[0m \u001b[0mNone\u001b[0m\u001b[1;33m\u001b[0m\u001b[0m\n\u001b[0;32m     29\u001b[0m \u001b[1;33m\u001b[0m\u001b[0m\n\u001b[1;32m---> 30\u001b[1;33m     \u001b[1;32mif\u001b[0m \u001b[0mlen\u001b[0m\u001b[1;33m(\u001b[0m\u001b[0mcommon_users\u001b[0m\u001b[1;33m)\u001b[0m \u001b[1;33m<\u001b[0m \u001b[0mmin_common_users\u001b[0m\u001b[1;33m:\u001b[0m\u001b[1;33m\u001b[0m\u001b[0m\n\u001b[0m\u001b[0;32m     31\u001b[0m         \u001b[1;32mreturn\u001b[0m \u001b[1;33m[\u001b[0m\u001b[1;33m[\u001b[0m\u001b[0mfloat\u001b[0m\u001b[1;33m(\u001b[0m\u001b[1;34m'inf'\u001b[0m\u001b[1;33m)\u001b[0m\u001b[1;33m]\u001b[0m\u001b[1;33m]\u001b[0m\u001b[1;33m\u001b[0m\u001b[0m\n\u001b[0;32m     32\u001b[0m     \u001b[1;32mreturn\u001b[0m \u001b[0mdistance\u001b[0m\u001b[1;33m\u001b[0m\u001b[0m\n",
      "\u001b[1;31mTypeError\u001b[0m: object of type 'NoneType' has no len()"
     ]
    }
   ],
   "source": [
    "#Do not change below\n",
    "print calculate_similarity(\"Toy Story (1995)\", \"GoldenEye (1995)\")\n",
    "print calculate_similarity(\"GoldenEye (1995)\", \"Tomorrow Never Dies (1997)\")\n",
    "print calculate_similarity(\"Batman Forever (1995)\", \"Batman & Robin (1997)\")"
   ]
  },
  {
   "cell_type": "code",
   "execution_count": null,
   "metadata": {
    "collapsed": true
   },
   "outputs": [],
   "source": [
    "\n",
    "\n",
    "#Task t2d: Given a movie, find the top-k most similar movies\n",
    "# that have the lowest euclidean distance \n",
    "\n",
    "#Here is the high level logic:\n",
    "#  for each movie in all_movie_names (Except the input movie name)\n",
    "#    compute its similarity and store it in an array\n",
    "#   return the k movies with the smallest distances\n",
    "# remember to pass min_common_users to calculate_similarity\n",
    "def get_top_k_similar_movies(input_movie_name, k=5, min_common_users=0):\n",
    "    movie_similarity = [] \n",
    "    for movie_name in all_movie_names:\n",
    "        if input_movie_name == movie_name:\n",
    "            continue\n",
    "        similarity = calculate_similarity(input_movie_name, movie_name, min_common_users)\n",
    "        similarity = similarity[0][0]\n",
    "        movie_similarity.append( (similarity, movie_name) )\n",
    "    return sorted(movie_similarity)[:k]"
   ]
  },
  {
   "cell_type": "code",
   "execution_count": null,
   "metadata": {
    "collapsed": true
   },
   "outputs": [],
   "source": [
    "#print get_top_k_similar_movies(\"Toy Story (1995)\", 10)\n",
    "print \"\\nMovies similar to GoldenEye [25]\", get_top_k_similar_movies(\"GoldenEye (1995)\", 10, 25)\n",
    "print \"\\nMovies similar to GoldenEye [50]\", get_top_k_similar_movies(\"GoldenEye (1995)\", 10, 50)\n",
    "print \"\\nMovies similar to GoldenEye [100]\", get_top_k_similar_movies(\"GoldenEye (1995)\", 10, 100)\n",
    "print \"\\n\\n\"\n",
    "\n",
    "print \"\\nMovies similar to Usual Suspects [25]\", get_top_k_similar_movies(\"Usual Suspects, The (1995)\", 10, 25)\n",
    "print \"\\nMovies similar to Usual Suspects [50]\", get_top_k_similar_movies(\"Usual Suspects, The (1995)\", 10, 50)\n",
    "print \"\\nMovies similar to Usual Suspects [100]\", get_top_k_similar_movies(\"Usual Suspects, The (1995)\", 10, 100)\n",
    "print \"\\n\\n\"\n",
    "\n",
    "print \"\\nMovies similar to Batman Forever [25]\", get_top_k_similar_movies(\"Batman Forever (1995)\", 10, 25)\n",
    "print \"\\nMovies similar to Batman Forever [50]\", get_top_k_similar_movies(\"Batman Forever (1995)\", 10, 50)\n",
    "print \"\\nMovies similar to Batman Forever [100]\", get_top_k_similar_movies(\"Batman Forever (1995)\", 10, 100)\n",
    "print \"\\n\\n\"\n",
    "\n",
    "print \"\\nMovies similar to Shawshank Redemption [25]\", get_top_k_similar_movies(\"Shawshank Redemption, The (1994)\", 10, 25)\n",
    "print \"\\nMovies similar to Shawshank Redemption [50]\", get_top_k_similar_movies(\"Shawshank Redemption, The (1994)\", 10, 50)\n",
    "print \"\\nMovies similar to Shawshank Redemption [100]\", get_top_k_similar_movies(\"Shawshank Redemption, The (1994)\", 10, 100)\n",
    "print \"\\n\\n\""
   ]
  },
  {
   "cell_type": "code",
   "execution_count": null,
   "metadata": {
    "collapsed": true
   },
   "outputs": [],
   "source": [
    "#Item based Collabrative Filtering\n",
    "#Do not change below\n",
    "# By default euclidean distance can be give arbitrary values\n",
    "# Let us \"normalize\" it by limit its value between 0 and 1 and slightly change the interpretation\n",
    "# 0 means that the preferences are very different\n",
    "# 1 means that preferences are identical\n",
    "# For tasks 3 and 4, remember to use this function\n",
    "\n",
    "#Vec1 and vec2 are vectors\n",
    "def euclidean_distance_normed(vec1, vec2):\n",
    "    if len(vec1) == 0:\n",
    "        return 0.0\n",
    "    euc_distance = euclidean_distances(vec1, vec2)[0][0]\n",
    "    return 1.0 / (1.0 + euc_distance)"
   ]
  },
  {
   "cell_type": "code",
   "execution_count": null,
   "metadata": {
    "collapsed": true
   },
   "outputs": [],
   "source": [
    "#Task t3a:\n",
    "# In this task, you want to compute the similarity between two items\n",
    "#  which in this case means ratings_df\n",
    "# You can use code from 2c except that you must now call euclidean_distance_normed\n",
    "#  when computing the distance\n",
    "\n",
    "def calculate_similarity_normed(movie_name_1, movie_name_2, min_common_users=0):\n",
    "    movie1 = movie_name_to_id_dictionary[movie_name_1]\n",
    "    movie2 = movie_name_to_id_dictionary[movie_name_2]\n",
    "\n",
    "    #This is the set of UNIQUE user ids  who reviewed  movie1\n",
    "    users_who_rated_movie1 = movielens_df[movielens_df['MovieId'] == movie1]['UserId'].unique()\n",
    "    \n",
    "    #This is the set of UNIQUE user ids  who reviewed  movie2\n",
    "    users_who_rated_movie2 = movielens_df[movielens_df['MovieId'] == movie2]['UserId'].unique()\n",
    "     \n",
    "    #Compute the common users who rated both movies: \n",
    "    # hint convert both to set and do the intersection\n",
    "    common_users = set(users_who_rated_movie1).intersection(users_who_rated_movie2)\n",
    "\n",
    "    #Using the code you wrote in t2a, get the reviews for the movies and common users\n",
    "    movie1_reviews = get_movie_reviews(movie1, common_users)\n",
    "    movie2_reviews = get_movie_reviews(movie2, common_users)\n",
    "    \n",
    "    #Do not change below\n",
    "    \n",
    "    #Now you have the data frame for both movies\n",
    "    # Use the euclidean_distances function from sklean (imported already)\n",
    "    # to compute the distance between their rating values\n",
    "    distance = euclidean_distance_normed(movie1_reviews['Rating'].values, movie2_reviews['Rating'].values)\n",
    "\n",
    "    if len(common_users) < min_common_users:\n",
    "        return 0.0\n",
    "    return distance"
   ]
  },
  {
   "cell_type": "code",
   "execution_count": null,
   "metadata": {
    "collapsed": true
   },
   "outputs": [],
   "source": [
    "#Do not change below\n",
    "print calculate_similarity_normed(\"Toy Story (1995)\", \"GoldenEye (1995)\")\n",
    "print calculate_similarity_normed(\"GoldenEye (1995)\", \"Tomorrow Never Dies (1997)\")\n",
    "print calculate_similarity_normed(\"Batman Forever (1995)\", \"Batman & Robin (1997)\")"
   ]
  },
  {
   "cell_type": "code",
   "execution_count": null,
   "metadata": {
    "collapsed": true
   },
   "outputs": [],
   "source": [
    "#Do not change below\n",
    "\n",
    "#We are now going to create item-item similarity database\n",
    "# Since our data is \"small\", we will use a non-traditional approach of using nested hashes\n",
    "# In real-life, using something like databases or other data structures is far more preferable\n",
    "\n",
    "#Here is the high level structure\n",
    "#{\n",
    "#    movie_name_1:  \n",
    "#    { \n",
    "#        movie_name_2: similarity_between_movie_1_and_2, \n",
    "#        movie_name_3: similarity_between_movie_1_and_3, \n",
    "#        ....\n",
    "#        movie_name_n: similarity_between_movie_1_and_n\n",
    "#    },\n",
    "#    movie_name_2:\n",
    "#    {\n",
    "#        movie_name_1: similarity_between_movie_2_and_1, \n",
    "#        movie_name_3: similarity_between_movie_2_and_3, \n",
    "#        ....\n",
    "#        movie_name_n: similarity_between_movie_2_and_n\n",
    "#    },\n",
    "#    ....\n",
    "#    movie_name_n:\n",
    "#    {\n",
    "#        movie_name_1: similarity_between_movie_n_and_1, \n",
    "#        movie_name_2: similarity_between_movie_n_and_2, \n",
    "#        ....\n",
    "#        movie_name_n-1: similarity_between_movie_n_and_n-1\n",
    "#    },\n",
    "#}    \n",
    "    \n",
    "\n",
    "#Here is how to use this data structuere:\n",
    "\n",
    "#To get similarity between movies\n",
    "#   data[movie1][movie2]\n",
    "#To get similarity between one movie and all others\n",
    "#   data[movie1]"
   ]
  },
  {
   "cell_type": "code",
   "execution_count": null,
   "metadata": {
    "collapsed": true
   },
   "outputs": [],
   "source": [
    "#DO not change below\n",
    "#This hash stores the movie to movie \n",
    "# as described above\n",
    "movie_similarity_hash = defaultdict(dict)"
   ]
  },
  {
   "cell_type": "code",
   "execution_count": 2,
   "metadata": {
    "collapsed": false
   },
   "outputs": [
    {
     "name": "stdout",
     "output_type": "stream",
     "text": [
      "Top-10"
     ]
    },
    {
     "ename": "NameError",
     "evalue": "global name 'Counter' is not defined",
     "output_type": "error",
     "traceback": [
      "\u001b[1;31m---------------------------------------------------------------------------\u001b[0m",
      "\u001b[1;31mNameError\u001b[0m                                 Traceback (most recent call last)",
      "\u001b[1;32m<ipython-input-2-0171eda6c62f>\u001b[0m in \u001b[0;36m<module>\u001b[1;34m()\u001b[0m\n\u001b[0;32m     25\u001b[0m \u001b[1;33m\u001b[0m\u001b[0m\n\u001b[0;32m     26\u001b[0m \u001b[1;31m#Do not change below\u001b[0m\u001b[1;33m\u001b[0m\u001b[1;33m\u001b[0m\u001b[0m\n\u001b[1;32m---> 27\u001b[1;33m \u001b[1;32mprint\u001b[0m \u001b[1;34m\"Top-10\"\u001b[0m\u001b[1;33m,\u001b[0m \u001b[0mtop_k_movie_names\u001b[0m\u001b[1;33m(\u001b[0m\u001b[1;36m10\u001b[0m\u001b[1;33m)\u001b[0m\u001b[1;33m,\u001b[0m \u001b[1;34m\"\\n\"\u001b[0m\u001b[1;33m\u001b[0m\u001b[0m\n\u001b[0m\u001b[0;32m     28\u001b[0m \u001b[1;32mprint\u001b[0m \u001b[1;34m\"Top-25\"\u001b[0m\u001b[1;33m,\u001b[0m \u001b[0mtop_k_movie_names\u001b[0m\u001b[1;33m(\u001b[0m\u001b[1;36m25\u001b[0m\u001b[1;33m)\u001b[0m\u001b[1;33m,\u001b[0m \u001b[1;34m\"\\n\"\u001b[0m\u001b[1;33m\u001b[0m\u001b[0m\n",
      "\u001b[1;32m<ipython-input-2-0171eda6c62f>\u001b[0m in \u001b[0;36mtop_k_movie_names\u001b[1;34m(k)\u001b[0m\n\u001b[0;32m     14\u001b[0m \u001b[1;33m\u001b[0m\u001b[0m\n\u001b[0;32m     15\u001b[0m \u001b[1;32mdef\u001b[0m \u001b[0mtop_k_movie_names\u001b[0m\u001b[1;33m(\u001b[0m\u001b[0mk\u001b[0m\u001b[1;33m)\u001b[0m\u001b[1;33m:\u001b[0m\u001b[1;33m\u001b[0m\u001b[0m\n\u001b[1;32m---> 16\u001b[1;33m     \u001b[0mmovie_ratings_counter\u001b[0m \u001b[1;33m=\u001b[0m \u001b[0mCounter\u001b[0m\u001b[1;33m(\u001b[0m\u001b[1;33m)\u001b[0m\u001b[1;33m\u001b[0m\u001b[0m\n\u001b[0m\u001b[0;32m     17\u001b[0m \u001b[1;33m\u001b[0m\u001b[0m\n\u001b[0;32m     18\u001b[0m     \u001b[1;32mwith\u001b[0m \u001b[0mopen\u001b[0m\u001b[1;33m(\u001b[0m\u001b[1;34m\"ml-100k/u.data\"\u001b[0m\u001b[1;33m,\u001b[0m\u001b[1;34m\"r\"\u001b[0m\u001b[1;33m)\u001b[0m \u001b[1;32mas\u001b[0m \u001b[0mf\u001b[0m\u001b[1;33m:\u001b[0m\u001b[1;33m\u001b[0m\u001b[0m\n",
      "\u001b[1;31mNameError\u001b[0m: global name 'Counter' is not defined"
     ]
    }
   ],
   "source": [
    "\n",
    "\n",
    "#Item based filtering is expensive as you need to compute similarity of all pairs of items\n",
    "# for this dataset it is 1682*1682 ~ 28 lakh pairs or 2.8 million\n",
    "# running all of them might take hours and close to a day\n",
    "# instead let us run on a smaller dataset\n",
    "# specifically, let us only focus on the top-250 movies based on ratings\n",
    "# which is more manageable\n",
    "\n",
    "\n",
    "#Task t3b: \n",
    "# Get the top-k movie names with most ratings\n",
    "#Hint: use Counter class\n",
    "\n",
    "def top_k_movie_names(k):\n",
    "    movie_ratings_counter = Counter()\n",
    "    \n",
    "    with open(\"ml-100k/u.data\",\"r\") as f:\n",
    "        for line in f:\n",
    "            user_id, movie_id, rating, timestamp = line.split(\"\\t\")\n",
    "            movie_name = all_movie_names[ int(movie_id) - 1]\n",
    "            movie_ratings_counter[movie_name] += 1\n",
    "    \n",
    "    return movie_ratings_counter.most_common(k)\n",
    "\n",
    "#Do not change below\n",
    "print \"Top-10\", top_k_movie_names(10), \"\\n\"\n",
    "print \"Top-25\", top_k_movie_names(25), \"\\n\""
   ]
  },
  {
   "cell_type": "code",
   "execution_count": 1,
   "metadata": {
    "collapsed": false
   },
   "outputs": [
    {
     "ename": "NameError",
     "evalue": "name 'top_k_movie_names' is not defined",
     "output_type": "error",
     "traceback": [
      "\u001b[1;31m---------------------------------------------------------------------------\u001b[0m",
      "\u001b[1;31mNameError\u001b[0m                                 Traceback (most recent call last)",
      "\u001b[1;32m<ipython-input-1-0e85ece4ca50>\u001b[0m in \u001b[0;36m<module>\u001b[1;34m()\u001b[0m\n\u001b[0;32m      1\u001b[0m \u001b[1;31m#Do not change below\u001b[0m\u001b[1;33m\u001b[0m\u001b[1;33m\u001b[0m\u001b[0m\n\u001b[1;32m----> 2\u001b[1;33m \u001b[0mtop_250_movie_names\u001b[0m \u001b[1;33m=\u001b[0m \u001b[1;33m[\u001b[0m\u001b[0mitem\u001b[0m\u001b[1;33m[\u001b[0m\u001b[1;36m0\u001b[0m\u001b[1;33m]\u001b[0m \u001b[1;32mfor\u001b[0m \u001b[0mitem\u001b[0m \u001b[1;32min\u001b[0m \u001b[0mtop_k_movie_names\u001b[0m\u001b[1;33m(\u001b[0m\u001b[1;36m250\u001b[0m\u001b[1;33m)\u001b[0m\u001b[1;33m]\u001b[0m\u001b[1;33m\u001b[0m\u001b[0m\n\u001b[0m",
      "\u001b[1;31mNameError\u001b[0m: name 'top_k_movie_names' is not defined"
     ]
    }
   ],
   "source": [
    "#Do not change below\n",
    "top_250_movie_names = [item[0] for item in top_k_movie_names(250)]"
   ]
  },
  {
   "cell_type": "code",
   "execution_count": null,
   "metadata": {
    "collapsed": true
   },
   "outputs": [],
   "source": [
    "#Task t3c:\n",
    "#Use the following logic\n",
    "#  for each movie in movie_names:\n",
    "#    for all other movies in movie_names:\n",
    "#      compute similarity between  two movies using calculate_similarity_normed\n",
    "#      remember to pass min_common_users to that function\n",
    "#  note that movie_similarity_hash is a defaultdict \n",
    "#  so similarity between movie1 and movie2 can be set as movie_similarity_hash[movie1][movie2]\n",
    "#  btw, similarity in our case is commutative. \n",
    "#   i.e. similarity(movie1, movie2) = similarity(movie2, movie1)\n",
    "#   so do not call the function twice !\n",
    "# movie_names is an array that lists the movies for which you have to compute pairwise similarity\n",
    "def compute_movie_to_movie_similarity(movie_names, min_common_users=0):\n",
    "    for movie_name_1 in movie_names:\n",
    "        for movie_name_2 in movie_names:\n",
    "            if movie_name_1 == movie_name_2:\n",
    "                continue\n",
    "            similarity = calculate_similarity_normed(movie_name_1, movie_name_2, min_common_users)\n",
    "            movie_similarity_hash[movie_name_1][movie_name_2] = similarity\n",
    "            movie_similarity_hash[movie_name_2][movie_name_1] = similarit"
   ]
  },
  {
   "cell_type": "code",
   "execution_count": null,
   "metadata": {
    "collapsed": true
   },
   "outputs": [],
   "source": [
    "#Do not change below\n",
    "\n",
    "#Let us first test if your code above is correct by testing against a small subset of data\n",
    "movie_similarity_hash = defaultdict(dict)\n",
    "# let use the top-10 movies\n",
    "compute_movie_to_movie_similarity(top_250_movie_names[:10], min_common_users=0)\n",
    "\n",
    "#Get similarity with \n",
    "display(movie_similarity_hash[\"Toy Story (1995)\"])\n",
    "display(movie_similarity_hash['Return of the Jedi (1983)'])\n",
    "\n",
    "print movie_similarity_hash[\"Toy Story (1995)\"][\"Independence Day (ID4) (1996)\"]"
   ]
  },
  {
   "cell_type": "code",
   "execution_count": null,
   "metadata": {
    "collapsed": true
   },
   "outputs": [],
   "source": [
    "#Do not change below\n",
    "#Let us now test against top-250 most popular movies\n",
    "#This might take 10-20 mins to run!\n",
    "movie_similarity_hash = defaultdict(dict)\n",
    "compute_movie_to_movie_similarity(top_250_movie_names, min_common_users=25)"
   ]
  },
  {
   "cell_type": "code",
   "execution_count": null,
   "metadata": {
    "collapsed": true
   },
   "outputs": [],
   "source": [
    "#Do not change below\n",
    "#Do this if you want to persist the data \n",
    "\n",
    "# Let us persist the movie-movie similarity data structure \n",
    "# that way you dont need to re-run the whole thing\n",
    "#pickle is a serialization library in Python\n",
    "# To persist/serialize, use the following line\n",
    "#pickle.dump(movie_similarity_hash, open(\"movie_similarity.pickle\", \"wb\"))\n",
    "# To deserialize, uncomment the following line \n",
    "#movie_similarity_hash = pickle.load( open( \"movie_similarity.pickle\", \"rb\" ) )"
   ]
  },
  {
   "cell_type": "code",
   "execution_count": null,
   "metadata": {
    "collapsed": true
   },
   "outputs": [],
   "source": [
    "for movie_name in top_250_movie_names[:10]:\n",
    "    print \"Top-10 most similar movies for \", movie_name, \" :\", \n",
    "    print sorted(movie_similarity_hash[movie_name].items(), key=operator.itemgetter(1), reverse=True)[:10]\n",
    "    print \"\\n\""
   ]
  },
  {
   "cell_type": "code",
   "execution_count": 5,
   "metadata": {
    "collapsed": false
   },
   "outputs": [
    {
     "ename": "NameError",
     "evalue": "global name 'all_movie_names' is not defined",
     "output_type": "error",
     "traceback": [
      "\u001b[1;31m---------------------------------------------------------------------------\u001b[0m",
      "\u001b[1;31mNameError\u001b[0m                                 Traceback (most recent call last)",
      "\u001b[1;32m<ipython-input-5-75d7bf2276f4>\u001b[0m in \u001b[0;36m<module>\u001b[1;34m()\u001b[0m\n\u001b[0;32m     17\u001b[0m     \u001b[1;32mreturn\u001b[0m \u001b[0muser_rating_hash\u001b[0m\u001b[1;33m\u001b[0m\u001b[0m\n\u001b[0;32m     18\u001b[0m \u001b[1;33m\u001b[0m\u001b[0m\n\u001b[1;32m---> 19\u001b[1;33m \u001b[1;32mprint\u001b[0m \u001b[0mcompute_user_rating_hash\u001b[0m\u001b[1;33m(\u001b[0m\u001b[1;33m)\u001b[0m\u001b[1;33m\u001b[0m\u001b[0m\n\u001b[0m",
      "\u001b[1;32m<ipython-input-5-75d7bf2276f4>\u001b[0m in \u001b[0;36mcompute_user_rating_hash\u001b[1;34m()\u001b[0m\n\u001b[0;32m     13\u001b[0m         \u001b[1;32mfor\u001b[0m \u001b[0mline\u001b[0m \u001b[1;32min\u001b[0m \u001b[0mf\u001b[0m\u001b[1;33m:\u001b[0m\u001b[1;33m\u001b[0m\u001b[0m\n\u001b[0;32m     14\u001b[0m             \u001b[0muser_id\u001b[0m\u001b[1;33m,\u001b[0m \u001b[0mmovie_id\u001b[0m\u001b[1;33m,\u001b[0m \u001b[0mrating\u001b[0m\u001b[1;33m,\u001b[0m \u001b[0mtimestamp\u001b[0m \u001b[1;33m=\u001b[0m \u001b[0mline\u001b[0m\u001b[1;33m.\u001b[0m\u001b[0msplit\u001b[0m\u001b[1;33m(\u001b[0m\u001b[1;34m\"\\t\"\u001b[0m\u001b[1;33m)\u001b[0m\u001b[1;33m\u001b[0m\u001b[0m\n\u001b[1;32m---> 15\u001b[1;33m             \u001b[0muser_rating_hash\u001b[0m\u001b[1;33m[\u001b[0m\u001b[0mint\u001b[0m\u001b[1;33m(\u001b[0m\u001b[0muser_id\u001b[0m\u001b[1;33m)\u001b[0m\u001b[1;33m]\u001b[0m\u001b[1;33m[\u001b[0m\u001b[0mall_movie_names\u001b[0m\u001b[1;33m[\u001b[0m\u001b[0mint\u001b[0m\u001b[1;33m(\u001b[0m\u001b[0mmovie_id\u001b[0m\u001b[1;33m)\u001b[0m\u001b[1;33m-\u001b[0m\u001b[1;36m1\u001b[0m\u001b[1;33m]\u001b[0m\u001b[1;33m]\u001b[0m \u001b[1;33m=\u001b[0m \u001b[0mint\u001b[0m\u001b[1;33m(\u001b[0m\u001b[0mrating\u001b[0m\u001b[1;33m)\u001b[0m\u001b[1;33m\u001b[0m\u001b[0m\n\u001b[0m\u001b[0;32m     16\u001b[0m \u001b[1;33m\u001b[0m\u001b[0m\n\u001b[0;32m     17\u001b[0m     \u001b[1;32mreturn\u001b[0m \u001b[0muser_rating_hash\u001b[0m\u001b[1;33m\u001b[0m\u001b[0m\n",
      "\u001b[1;31mNameError\u001b[0m: global name 'all_movie_names' is not defined"
     ]
    }
   ],
   "source": []
  },
  {
   "cell_type": "code",
   "execution_count": null,
   "metadata": {
    "collapsed": true
   },
   "outputs": [],
   "source": [
    "#Task t3d\n",
    "\n",
    "#Before doing t3d, please complete t4a so that user_rating_hash is available\n",
    "# this will make the code below easier\n",
    "\n",
    "#In this task, we are going to predict the rating of a user u for a movie m using item based collaborative filtering\n",
    "#Here is the high level logic:\n",
    "# for each item i rated by this user:\n",
    "#    s = similarity between i and input movie m \n",
    "#    if similarity between i and m is 0, ignore this item \n",
    "#    compute weighted rating for m based on i as rating for i * s\n",
    "# compute the predicted rating as sum of all weighted ratings / sum of all similarities\n",
    "\n",
    "def predict_rating_for_movie_icf(movie_similarity_hash, input_user_id, input_movie_name, movies_considered):\n",
    "    total_weighted_rating = 0.0\n",
    "    total_similarity= 0.0\n",
    "        \n",
    "    #Hint: movie_similarity_hash is a nested hash where user id is key and \n",
    "    #  all their rating as a dictionary  \n",
    "    # this dictionary is ordered as moviename: rating\n",
    "\n",
    "    #if this user has already rated the movie, return that rating\n",
    "    if input_movie_name in user_rating_hash[input_user_id]:\n",
    "        return user_rating_hash[input_user_id][input_movie_name]\n",
    "    \n",
    "    #For each movie the user has rated\n",
    "    for movie_name in user_rating_hash[input_user_id].keys():\n",
    "\n",
    "        #if user rated some movie, but it is not in the subset of movies that we computed pairwise similarity\n",
    "        # such as top-250, then do not consider it either\n",
    "        # for this task, the input is in movies_considered \n",
    "        if movie_name not in movies_considered:\n",
    "            continue\n",
    "        \n",
    "        #compute similarity between movies\n",
    "        #dont recompute = use the hash\n",
    "        similarity = movie_similarity_hash[input_movie_name][movie_name]\n",
    "        \n",
    "        #Reject item if similarity is 0\n",
    "        if similarity <= 0.0:\n",
    "            continue\n",
    "                     \n",
    "        #Compute weighted rating\n",
    "        weighted_rating = similarity * user_rating_hash[input_user_id][movie_name]\n",
    "        \n",
    "        #update total_weighted_rating and total_similarity\n",
    "        total_weighted_rating += weighted_rating\n",
    "        total_similarity += similarity\n",
    "            \n",
    "    #Do not change below\n",
    "    if total_similarity == 0.0:\n",
    "        return 0.0\n",
    "    \n",
    "    return total_weighted_rating / total_similarity"
   ]
  },
  {
   "cell_type": "code",
   "execution_count": null,
   "metadata": {
    "collapsed": true
   },
   "outputs": [],
   "source": [
    "#Task t3e: \n",
    "#Here is the pseudocode for recommending movies\n",
    "# for each movie this user has not rated in movies_considered:\n",
    "#           predict rating for this movie and this user using t4d\n",
    "#  return the top-k movies\n",
    "def recommend_movies_icf(input_user_id, movies_considered, movie_similarity_hash,\n",
    "                             user_rating_hash, k=10, min_common_movies=5):\n",
    "    predicted_ratings = []\n",
    "    \n",
    "    #Your code here\n",
    "    for movie_name in movies_considered:\n",
    "        if movie_name in user_rating_hash[input_user_id]:\n",
    "            continue\n",
    "        \n",
    "        #Predict the rating for input_user_id and movie_name using t3d\n",
    "        predicted_rating = predict_rating_for_movie_icf(movie_similarity_hash, \n",
    "                                        input_user_id, movie_name, movies_considered)\n",
    "        #append rating and movie name to predicted_ratings\n",
    "        predicted_ratings.append( (predicted_rating, movie_name) )\n",
    "    \n",
    "    return sorted(predicted_ratings, reverse=True)[:k]"
   ]
  },
  {
   "cell_type": "code",
   "execution_count": null,
   "metadata": {
    "collapsed": true
   },
   "outputs": [],
   "source": [
    "#Do not change below:\n",
    "\n",
    "#Let us predict top-5 movies for first 10 users\n",
    "for user_id in range(1,11):\n",
    "    print user_id, recommend_movies_icf(user_id, top_250_movie_names, movie_similarity_hash, \n",
    "                               user_rating_hash, k=10, min_common_movies=5)"
   ]
  },
  {
   "cell_type": "code",
   "execution_count": null,
   "metadata": {
    "collapsed": true
   },
   "outputs": [],
   "source": [
    "# User based Collabrative Filtering\n",
    "\n",
    "\n",
    "\n",
    "#Task t4a\n",
    "#Create the data structure as discussed above\n",
    "# here is the logic:\n",
    "# for each line in file ml-100k/u.data:\n",
    "#   set user_rating_hash[user][movie] = rating\n",
    "# read the instructions above again!\n",
    "\n",
    "def compute_user_rating_hash():\n",
    "    user_rating_hash = defaultdict(dict)\n",
    "    \n",
    "    #Your code below\n",
    "    with open(\"ml-100k/u.data\",\"r\") as f:\n",
    "        for line in f:\n",
    "            user_id, movie_id, rating, timestamp = line.split(\"\\t\")\n",
    "            user_rating_hash[int(user_id)][all_movie_names[int(movie_id)-1]] = int(rating)    \n",
    "    \n",
    "    return user_rating_hash\n",
    "\n"
   ]
  },
  {
   "cell_type": "code",
   "execution_count": null,
   "metadata": {
    "collapsed": true
   },
   "outputs": [],
   "source": [
    "#Do not change below\n",
    "user_rating_hash = compute_user_rating_hash()"
   ]
  },
  {
   "cell_type": "code",
   "execution_count": null,
   "metadata": {
    "collapsed": true
   },
   "outputs": [],
   "source": [
    "#Do not change below\n",
    "#How many users are there?\n",
    "print len(user_rating_hash.keys())\n",
    "#How many movies did each of the first 20 users rated?\n",
    "print [len(user_rating_hash[i].keys()) for i in range(1,20+1)] \n",
    "#print the ratings of user 4\n",
    "display(user_rating_hash[4])"
   ]
  },
  {
   "cell_type": "code",
   "execution_count": null,
   "metadata": {
    "collapsed": true
   },
   "outputs": [],
   "source": [
    "#Task t4b:\n",
    "#We need to modify our logic for computing distance\n",
    "#Here is the high level pseudocode:\n",
    "# movie1 = movie names rated by user 1\n",
    "# movie2 = movie names rated by user 2\n",
    "# common movies = set intersection of movie1 and movie2\n",
    "# if number of common movies is less than min_common_movies, return 0.0 [not 0]\n",
    "# other wise create a vector with rating for common movies only\n",
    "# compute euclidean distance between the vectors\n",
    "# return 1 / (1+euclidean distace)\n",
    "\n",
    "def compute_user_user_similarity(user_rating_hash, user_id_1, user_id_2, min_common_movies=0):\n",
    "    #Get list of movie names rated by user 1. hint use keys function [see above for usage]\n",
    "    movies_rated_user1 = user_rating_hash[user_id_1].keys()\n",
    "    movies_rated_user2 = user_rating_hash[user_id_2].keys()\n",
    "    \n",
    "    #compute common movies\n",
    "    common_movies = set(movies_rated_user1).intersection( set(movies_rated_user2) )\n",
    "    if len(common_movies) < min_common_movies:\n",
    "        return 0.0\n",
    "    \n",
    "    common_movies = sorted(list(common_movies))\n",
    "    \n",
    "    #vector1 is the set of ratings for user1 for movies in common_movies\n",
    "    vector1 = [user_rating_hash[user_id_1][movie] for movie in common_movies]\n",
    "    #vector2 is the set of ratings for user2 for movies in common_movies\n",
    "    vector2 = [user_rating_hash[user_id_2][movie] for movie in common_movies]\n",
    "    \n",
    "    #Compute distance and return 1.0/(1.0+distance)\n",
    "    distance = euclidean_distances(vector1, vector2)[0][0]\n",
    "    return 1.0 / ( 1.0 + distance)"
   ]
  },
  {
   "cell_type": "code",
   "execution_count": null,
   "metadata": {
    "collapsed": true
   },
   "outputs": [],
   "source": [
    "#Testing code\n",
    "print [round(compute_user_user_similarity(user_rating_hash, 1, i),2) for i in range(1, 10+1)]\n",
    "print [round(compute_user_user_similarity(user_rating_hash, 784, i),2) for i in range(1, 10+1)]\n"
   ]
  },
  {
   "cell_type": "code",
   "execution_count": null,
   "metadata": {
    "collapsed": true
   },
   "outputs": [],
   "source": [
    "#Task t4c\n",
    "#This function finds the k-most similar users \n",
    "#Here is the high level logic:\n",
    "#  for each user in all_user_ids other than the input user id:\n",
    "#     find similarity between this user and input_user_id and store as (similarity, other userid)\n",
    "#     sort based on similarity\n",
    "#  return top-k\n",
    "# remember to pass min_common_movies\n",
    "def top_k_most_similar_users(user_rating_hash, input_user_id, all_user_ids, k=10, min_common_movies=0):\n",
    "    user_similarity = []\n",
    "    \n",
    "    for user_id in all_user_ids:\n",
    "        if user_id == input_user_id:\n",
    "            continue\n",
    "        similarity = compute_user_user_similarity(user_rating_hash, input_user_id, user_id, min_common_movies)\n",
    "        user_similarity.append( ( similarity, user_id) )\n",
    "    return sorted(user_similarity, reverse=True)[:k]"
   ]
  },
  {
   "cell_type": "code",
   "execution_count": null,
   "metadata": {
    "collapsed": true
   },
   "outputs": [],
   "source": [
    "#Do not change below\n",
    "all_user_ids = range(1, 943+1)\n",
    "print top_k_most_similar_users(user_rating_hash, 1, all_user_ids, 10, 5)\n",
    "print top_k_most_similar_users(user_rating_hash, 1, all_user_ids, 10, 10)\n",
    "print top_k_most_similar_users(user_rating_hash, 812, all_user_ids, 10, 5)\n",
    "print top_k_most_similar_users(user_rating_hash, 812, all_user_ids, 10, 20)\n"
   ]
  },
  {
   "cell_type": "code",
   "execution_count": null,
   "metadata": {
    "collapsed": true
   },
   "outputs": [],
   "source": [
    "#Task t4d\n",
    "#In this task, we are going to predict the rating of a user for a movie using user based collaborative filtering\n",
    "#Here is the high level logic:\n",
    "# for each user u in all_user_ids:\n",
    "#    s= similarity between u and input_user_id [remember to pass min_common_movies]\n",
    "#    if similairty is 0.0 ignore u\n",
    "#    if u has not rated this movie, ignore again\n",
    "#    suppose u has rated this movie with a value of r\n",
    "#    i am now going to give a \"weighted rating\" as r*s\n",
    "# compute the predicted rating as sum of all weighted ratings / sum of all similarities\n",
    "\n",
    "def predict_rating_for_movie_ucf(user_rating_hash, input_user_id, movie_name, all_user_ids, min_common_movies=5):\n",
    "    total_weighted_rating = 0.0\n",
    "    total_similarity= 0.0\n",
    "    \n",
    "    for user_id in all_user_ids:\n",
    "        if user_id == input_user_id:\n",
    "            continue\n",
    "        \n",
    "        #compute similarity between users\n",
    "        similarity = compute_user_user_similarity(user_rating_hash, user_id, input_user_id, min_common_movies)\n",
    "        \n",
    "        #Reject user if similarity is 0\n",
    "        if similarity <= 0.0:\n",
    "            continue\n",
    "            \n",
    "        #reject user if (s)he has not rated the movie\n",
    "        if movie_name not in user_rating_hash[user_id]:\n",
    "            continue\n",
    "            \n",
    "        #Compute weighted rating\n",
    "        weighted_rating = similarity * user_rating_hash[user_id][movie_name]\n",
    "        \n",
    "        #update total_weighted_rating and total_similarity\n",
    "        total_weighted_rating += weighted_rating\n",
    "        total_similarity += similarity\n",
    "            \n",
    "    #Do not change below\n",
    "    if total_similarity == 0.0:\n",
    "        return 0.0\n",
    "    \n",
    "    return total_weighted_rating / total_similarity"
   ]
  },
  {
   "cell_type": "code",
   "execution_count": null,
   "metadata": {
    "collapsed": true
   },
   "outputs": [],
   "source": [
    "\n",
    "\n",
    "#Do not change below\n",
    "all_user_ids = range(1, 943+1)\n",
    "for user_id in range(1, 5+1):\n",
    "    print \"user_id = \", user_id\n",
    "    print [ round(predict_rating_for_movie_ucf(user_rating_hash, user_id, all_movie_names[i], all_user_ids, min_common_movies=5),1)\n",
    "          for i in range(1, 10+1)]\n",
    "    print [ round(predict_rating_for_movie_ucf(user_rating_hash, user_id, all_movie_names[i], all_user_ids, min_common_movies=10),1)\n",
    "          for i in range(1, 10+1)]\n",
    "    print \"\\n\"\n",
    "\n"
   ]
  },
  {
   "cell_type": "code",
   "execution_count": null,
   "metadata": {
    "collapsed": true
   },
   "outputs": [],
   "source": [
    "#Task t4e: \n",
    "#Here is the pseudocode for recommending movies\n",
    "# for each movie this user has not rated:\n",
    "#     for all other users:\n",
    "#           predict rating for this movie and this user using t4d\n",
    "#  return the top-k movies\n",
    "def recommend_movies_ucf(user_rating_hash, all_user_ids, input_user_id, k=10, min_common_movies=5):\n",
    "    predicted_ratings = []\n",
    "    \n",
    "    #Your code here\n",
    "    for movie_name in all_movie_names:\n",
    "        if movie_name in user_rating_hash[input_user_id]:\n",
    "            continue\n",
    "        \n",
    "        #Predict the rating for input_user_id and movie_name using t4d\n",
    "        predicted_rating = predict_rating_for_movie_ucf(user_rating_hash, input_user_id, movie_name, \n",
    "                                                        all_user_ids, min_common_movies)\n",
    "        #append rating and movie name to predicted_ratings\n",
    "        predicted_ratings.append( (predicted_rating, movie_name) )\n",
    "    \n",
    "    return sorted(predicted_ratings, reverse=True)[:k"
   ]
  },
  {
   "cell_type": "code",
   "execution_count": null,
   "metadata": {
    "collapsed": true
   },
   "outputs": [],
   "source": [
    "#Do not change below\n",
    "all_user_ids = range(1, 943+1)\n",
    "\n",
    "for user_id in range(1, 5):\n",
    "    print recommend_movies_ucf(user_rating_hash, all_user_ids, user_id, k=10, min_common_movies=5)"
   ]
  }
 ],
 "metadata": {
  "kernelspec": {
   "display_name": "Python 2",
   "language": "python",
   "name": "python2"
  },
  "language_info": {
   "codemirror_mode": {
    "name": "ipython",
    "version": 2
   },
   "file_extension": ".py",
   "mimetype": "text/x-python",
   "name": "python",
   "nbconvert_exporter": "python",
   "pygments_lexer": "ipython2",
   "version": "2.7.10"
  }
 },
 "nbformat": 4,
 "nbformat_minor": 0
}
